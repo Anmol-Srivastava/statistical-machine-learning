{
 "cells": [
  {
   "cell_type": "markdown",
   "metadata": {},
   "source": [
    "# Exercise 1\n",
    "__Gradient Derivation__"
   ]
  },
  {
   "cell_type": "markdown",
   "metadata": {},
   "source": [
    "For $d=1, n=1$: \n",
    "\n",
    "\\begin{equation}\n",
    "\\nabla F(\\beta) = \\frac{1}{1+e^{-yx\\beta}}(e^{-yx\\beta})(-yx) + 2\\lambda\\beta\n",
    "\\end{equation}\n",
    "\n",
    "\\begin{equation}\n",
    "\\nabla F(\\beta) = \\frac{-yxe^{-yx\\beta}}{1+e^{-yx\\beta}} + 2\\lambda\\beta\n",
    "\\end{equation}\n",
    "\n",
    "When $d\\geq1, n\\geq1$, we generalize (by linearity): \n",
    "\n",
    "For the $j=1,...,d$ features,\n",
    "\n",
    "\n",
    "\\begin{equation}\n",
    "\\frac{\\partial F}{\\partial \\beta_j} = \\frac{1}{n} \\sum_{i=1}^{n}{\\frac{-y_ix_{ij}\\:exp\\:(-y_ix_i^T\\beta)}{1+exp\\:(-y_ix_i^T\\beta)}} + 2\\lambda\\beta_j\n",
    "\\end{equation}\n",
    "\n",
    "Then,\n",
    "\n",
    "\\begin{equation}\n",
    "\\nabla F(\\beta) = \\frac{-1}{n} \\sum_{i=1}^{n}{\\frac{y_ix_i\\:exp\\:(-y_ix_i^T\\beta)}{1+exp\\:(-y_ix_i^T\\beta)}} + 2\\lambda\\beta\n",
    "\\end{equation}"
   ]
  },
  {
   "cell_type": "markdown",
   "metadata": {},
   "source": [
    "__Retrieving Spam Dataset__ *(see code in homework3.py)*"
   ]
  },
  {
   "cell_type": "code",
   "execution_count": 1,
   "metadata": {},
   "outputs": [],
   "source": [
    "import pandas as pd \n",
    "import numpy as np \n",
    "import matplotlib.pyplot as plt\n",
    "\n",
    "from sklearn.model_selection import train_test_split\n",
    "from sklearn.preprocessing import StandardScaler \n",
    "from sklearn.linear_model import LogisticRegressionCV\n",
    "\n",
    "\"\"\" Exercise 1 \"\"\"\n",
    "\n",
    "# load data\n",
    "spam = pd.read_csv('../resources/spam.data', sep=' ', header=None)\n",
    "\n",
    "# change output labels to -1/+1\n",
    "y = spam.iloc[:,-1].apply(lambda x: -1 if x==0 else 1)\n",
    "\n",
    "# standardize features (by default, done independently)\n",
    "spam_arr = np.array(spam.iloc[:,:-1])\n",
    "scaler = StandardScaler()\n",
    "X = scaler.fit_transform(spam_arr)"
   ]
  },
  {
   "cell_type": "markdown",
   "metadata": {},
   "source": [
    "__Function Definitions__ *(see code in homework3.py)*"
   ]
  },
  {
   "cell_type": "code",
   "execution_count": 2,
   "metadata": {},
   "outputs": [],
   "source": [
    "def obj(B, lmbda, X=X, y=y):\n",
    "    risk = (1/len(y)) * np.log(1 + np.exp(-np.dot(y,np.dot(X,B))))\n",
    "    penalty = lmbda * np.linalg.norm(B)**2\n",
    "    return risk + penalty "
   ]
  },
  {
   "cell_type": "code",
   "execution_count": 3,
   "metadata": {},
   "outputs": [],
   "source": [
    "def computegrad(B, lmbda=0, X=X, y=y):\n",
    "    exp_term = np.exp(-np.dot(y, np.dot(X,B))) \n",
    "    print(exp_term)\n",
    "    risk = (-1/len(y)) * np.dot(np.dot(y,X), exp_term) / (1 + exp_term)\n",
    "    penalty = 2 * lmbda * B\n",
    "    return risk + penalty"
   ]
  },
  {
   "cell_type": "code",
   "execution_count": 4,
   "metadata": {},
   "outputs": [],
   "source": [
    "def backtracking(B, eta, alpha=0.5, gamma=0.8, lmbda=0, X=X, y=y):\n",
    "    grad_B = computegrad(B, X=X, y=y)\n",
    "    norm_grad_B = np.linalg.norm(grad_B)    \n",
    "    \n",
    "    while not obj(B-eta*grad_B, lmbda, X=X, y=y) <= obj(B,lmbda, X=X, y=y) - alpha*eta*norm_grad_B**2:\n",
    "        eta *= gamma\n",
    "          \n",
    "    return eta"
   ]
  },
  {
   "cell_type": "code",
   "execution_count": 5,
   "metadata": {},
   "outputs": [],
   "source": [
    "def graddescent(B_init, eta_init, epsilon, lmbda=0, max_iter=1000, X=X, y=y):   \n",
    "    eta = eta_init \n",
    "    B = B_init \n",
    "    grad_B = computegrad(B, lmbda=lmbda, X=X, y=y)\n",
    "    B_vals = [B]\n",
    "    iter_num = 0 \n",
    "    \n",
    "    while np.linalg.norm(grad_B) > epsilon:\n",
    "        eta = backtracking(B, eta, lmbda=lmbda, X=X, y=y)\n",
    "        B = B - eta*grad_B\n",
    "        B_vals.append(B)    \n",
    "        grad_B = computegrad(B, lmbda=lmbda, X=X, y=y)\n",
    "        iter_num += 1\n",
    "    \n",
    "    return np.array(B_vals) "
   ]
  },
  {
   "cell_type": "code",
   "execution_count": 18,
   "metadata": {},
   "outputs": [],
   "source": [
    "def fastgradalgo(eta_init, epsilon, lmbda=0, max_iter=1000, X=X, y=y):\n",
    "    theta = np.zeros(X.shape[1])\n",
    "    B = np.zeros(X.shape[1])\n",
    "    grad_B = computegrad(B, lmbda=lmbda, X=X, y=y)\n",
    "    B_vals = [B]\n",
    "    t = 0 \n",
    "    eta = eta_init \n",
    "    print(B,grad_B)\n",
    "    while np.linalg.norm(grad_B) > epsilon:\n",
    "        B_t = B\n",
    "        eta = backtracking(B_t, eta, lmbda=lmbda, X=X, y=y)\n",
    "        B = theta - eta*computegrad(theta, lmbda=lmbda, X=X, y=y)\n",
    "        theta = B + (t/(t+3)) * (B-B_t)\n",
    "        \n",
    "        B_vals.append(B)\n",
    "        grad_B = computegrad(B, lmbda=lmbda, X=X, y=y)\n",
    "        t += 1\n",
    "      \n",
    "    return np.array(B_vals)"
   ]
  },
  {
   "cell_type": "markdown",
   "metadata": {},
   "source": [
    "\n",
    "\\pagebreak\n"
   ]
  },
  {
   "cell_type": "markdown",
   "metadata": {},
   "source": [
    "__Comparing Gradient Descent Algorithms__"
   ]
  },
  {
   "cell_type": "code",
   "execution_count": 19,
   "metadata": {},
   "outputs": [
    {
     "name": "stdout",
     "output_type": "stream",
     "text": [
      "[0. 0. 0. 0. 0. 0. 0. 0. 0. 0. 0. 0. 0. 0. 0. 0. 0. 0. 0. 0. 0. 0. 0. 0.\n",
      " 0. 0. 0. 0. 0. 0. 0. 0. 0. 0. 0. 0. 0. 0. 0. 0. 0. 0. 0. 0. 0. 0. 0. 0.\n",
      " 0. 0. 0. 0. 0. 0. 0. 0. 0.] [-0.06167064  0.01476859 -0.0962571  -0.02803422 -0.1182131  -0.11366082\n",
      " -0.16228736 -0.10105583 -0.11314634 -0.06790308 -0.11460145 -0.00378247\n",
      " -0.06495392 -0.02933202 -0.09572667 -0.12861843 -0.12861319 -0.09978519\n",
      " -0.13371821 -0.09272575 -0.18726511 -0.04488693 -0.16359186 -0.10560145\n",
      "  0.12544625  0.11383839  0.08961937  0.07759688  0.06524538  0.08360444\n",
      "  0.06201493  0.05581006  0.05860363  0.05509672  0.07291809  0.06652124\n",
      "  0.08700094  0.01516522  0.06002053  0.03166475  0.04758168  0.06675636\n",
      "  0.06629161  0.04622286  0.06860983  0.07140963  0.02183194  0.04105582\n",
      "  0.02913771  0.04381772  0.03161986 -0.11819743 -0.15813945 -0.0317945\n",
      " -0.05375048 -0.10559447 -0.12175269]\n"
     ]
    }
   ],
   "source": [
    "# regularization coefficient \n",
    "lmbda = 0.5\n",
    "\n",
    "# n0 = 1/L-constant as in class \n",
    "w, v = np.linalg.eigh((1/len(y)) * np.dot(X.T, X))\n",
    "n0 = 1 / (max(w) + lmbda)  \n",
    "\n",
    "# target accuracy\n",
    "epsilon = 5e-3\n",
    "\n",
    "# for standard gradient descent, B0 is the zero vector\n",
    "B = np.zeros(X.shape[1])\n",
    "\n",
    "# access B iterates for both algorithms \n",
    "gd_betas = graddescent(B, n0, epsilon, lmbda=lmbda)\n",
    "fg_betas = fastgradalgo(n0, epsilon, lmbda=lmbda)"
   ]
  },
  {
   "cell_type": "code",
   "execution_count": 8,
   "metadata": {},
   "outputs": [
    {
     "data": {
      "image/png": "[encoded data removed]",
      "text/plain": [
       "<Figure size 432x288 with 1 Axes>"
      ]
     },
     "metadata": {
      "needs_background": "light"
     },
     "output_type": "display_data"
    }
   ],
   "source": [
    "def objective_plots(gd_betas, fg_betas, lmbda, X=X, y=y):\n",
    "    n1, _ = gd_betas.shape\n",
    "    n2, _ = fg_betas.shape \n",
    "    f1s = np.zeros(n1)\n",
    "    f2s = np.zeros(n2)\n",
    "    \n",
    "    for i in range(n1):\n",
    "        f1s[i] = obj(gd_betas[i], lmbda, X=X, y=y)\n",
    "    \n",
    "    for i in range(n2):\n",
    "        f2s[i] = obj(fg_betas[i], lmbda, X=X, y=y)\n",
    "        \n",
    "    plt.plot(f1s, label='graddescent')\n",
    "    plt.plot(f2s, label='fastgradalgo')\n",
    "    plt.xlabel('Iteration')\n",
    "    plt.ylabel('Objective Value')\n",
    "    plt.title('F(B) Over Time')\n",
    "    plt.legend()\n",
    "\n",
    "    \n",
    "objective_plots(gd_betas, fg_betas, 0.5)"
   ]
  },
  {
   "cell_type": "markdown",
   "metadata": {},
   "source": [
    "We observe a similar hyperbolic decline in objective values for both algorithms. In early iterations ($t$ in $[0,5]$), *fastgradalgo* begins to have objective values (very slightly) lower than *graddescent*. The steepness of the two curves is similar, but *fastgradalgo* approaches a marginally lower limit for $F(\\beta)$. Also, *fastgradalgo* meets its stopping criterion between $t=10$ and $t=20$, notably earlier than *graddescent's* stopping after $t=50$. So, we can summarize the lower objective threshold reached (and earlier termination) by arguing that *fastgradalgo* is more efficient than *graddescent*, while producing similarly-desirable loss.  "
   ]
  },
  {
   "cell_type": "markdown",
   "metadata": {},
   "source": [
    "__Comparing Via Scikit-Learn__\n",
    "\n",
    "Note that in the scikit-learn package, the objective function is: \n",
    "\n",
    "\\begin{equation}\n",
    "\\min_{w, c} \\frac{1}{2}w^T w + C \\sum_{i=1}^n \\log(\\exp(- y_i (X_i^T w + c)) + 1)\n",
    "\\end{equation}\n",
    "\n",
    "Minimizing this function is equivalent to minimizing:\n",
    "\n",
    "\\begin{equation}\n",
    "\\min_{w, c} \\frac{1}{2\\:n\\:C}w^T w + \\frac{C}{n\\:C} \\sum_{i=1}^n \\log(\\exp(- y_i (X_i^T w + c)) + 1)\n",
    "\\end{equation}\n",
    "\n",
    "We introduced the $\\frac{1}{n\\:C}$ factor to arrive at our objective function. This now becomes:\n",
    "\n",
    "\\begin{equation}\n",
    "\\min_{w, c} \\frac{1}{2\\:n\\:C}w^T w + \\frac{1}{n} \\sum_{i=1}^n \\log(\\exp(- y_i (X_i^T w + c)) + 1)\n",
    "\\end{equation}\n",
    "\n",
    "Which resembles our function. This means that $\\frac{1}{2\\:n\\:C}=\\lambda$, or that $C=\\frac{1}{2\\:n\\:\\lambda}$.\n",
    "\n",
    "__*Please note:*__ From the *sklearn* documentation, it could not be determined what the little $c$ in the exponential term within the summation is referring to. It is separate from the big $C$ mentioned here, and assumed to have negligible effect when equating the minimization of the *sklearn* objective function, and ours. "
   ]
  },
  {
   "cell_type": "code",
   "execution_count": 9,
   "metadata": {},
   "outputs": [
    {
     "name": "stdout",
     "output_type": "stream",
     "text": [
      "Our final iterate, B_T:\n",
      "\n",
      "[ 8.04949087e-05 -1.92765312e-05  1.25638488e-04  3.65913439e-05\n",
      "  1.54296314e-04  1.48354502e-04  2.11823744e-04  1.31901983e-04\n",
      "  1.47682985e-04  8.86297249e-05  1.49582244e-04  4.93702493e-06\n",
      "  8.47803683e-05  3.82852881e-05  1.24946149e-04  1.67877746e-04\n",
      "  1.67870911e-04  1.30243494e-04  1.74534178e-04  1.21029236e-04\n",
      "  2.44425672e-04  5.85881639e-05  2.13526424e-04  1.37835101e-04\n",
      " -1.63737302e-04 -1.48586269e-04 -1.16974664e-04 -1.01282444e-04\n",
      " -8.51607904e-05 -1.09123745e-04 -8.09442902e-05 -7.28454545e-05\n",
      " -7.64917315e-05 -7.19143671e-05 -9.51755079e-05 -8.68260912e-05\n",
      " -1.13556996e-04 -1.97942381e-05 -7.83411163e-05 -4.13300618e-05\n",
      " -6.21054500e-05 -8.71329783e-05 -8.65263748e-05 -6.03318683e-05\n",
      " -8.95522045e-05 -9.32066081e-05 -2.84958876e-05 -5.35876415e-05\n",
      " -3.80316681e-05 -5.71925891e-05 -4.12714700e-05  1.54275859e-04\n",
      "  2.06409729e-04  4.14994139e-05  7.01572074e-05  1.37825988e-04\n",
      "  1.58916321e-04]\n",
      "\n",
      "Estimate from sklearn:\n",
      "\n",
      "[ 0.02257694 -0.0116148   0.04902917  0.01954015  0.07279777  0.06278226\n",
      "  0.10452786  0.0598945   0.05852104  0.03417032  0.05694155 -0.00842633\n",
      "  0.03034325  0.01340622  0.04841639  0.08190959  0.07155303  0.05675207\n",
      "  0.06828139  0.05361687  0.10377371  0.03404875  0.09569375  0.0619975\n",
      " -0.06362613 -0.05404018 -0.05268105 -0.02768621 -0.02605095 -0.03407375\n",
      " -0.01951476 -0.01262928 -0.03494865 -0.01225642 -0.02868438 -0.01902747\n",
      " -0.0441835  -0.0107055  -0.03079572 -0.00068256 -0.02513218 -0.03994499\n",
      " -0.03267805 -0.02790379 -0.04298378 -0.04429519 -0.01547072 -0.02493272\n",
      " -0.02046344 -0.01871143 -0.01557885  0.0733483   0.0945139   0.02122305\n",
      "  0.02792329  0.05714016  0.06920232]\n"
     ]
    }
   ],
   "source": [
    "# final iterates and obj values for fastgradalgo \n",
    "B_T = fg_betas[-1]\n",
    "obj_Bt = \"{:.2E}\".format(obj(B_T, lmbda))\n",
    "\n",
    "# sklearn model\n",
    "C = [1/(2*len(y)*lmbda)]\n",
    "\n",
    "classifier = LogisticRegressionCV(Cs=C, fit_intercept=False)\n",
    "classifier.fit(X,y)\n",
    "\n",
    "B_S = classifier.coef_.reshape((57,))\n",
    "obj_Bs = \"{:.2E}\".format(obj(B_S, lmbda))\n",
    "\n",
    "print(\"Our final iterate, B_T:\\n\")\n",
    "print(B_T)\n",
    "print(\"\\nEstimate from sklearn:\\n\")\n",
    "print(B_S)"
   ]
  },
  {
   "cell_type": "code",
   "execution_count": 10,
   "metadata": {},
   "outputs": [
    {
     "name": "stdout",
     "output_type": "stream",
     "text": [
      "Objective value for our final iterate, B_T:\n",
      "\n",
      "1.31E-06\n",
      "\n",
      "Objective value for sklearn estimate:\n",
      "\n",
      "6.89E-02\n"
     ]
    }
   ],
   "source": [
    "print(\"Objective value for our final iterate, B_T:\\n\")\n",
    "print(obj_Bt)\n",
    "print(\"\\nObjective value for sklearn estimate:\\n\")\n",
    "print(obj_Bs)"
   ]
  },
  {
   "cell_type": "markdown",
   "metadata": {},
   "source": [
    "We observe that the two estimates themselves are dissimilar, and hence the objective values for the two estimates are dissimilar. In fact, the objective value for our final iterate $\\beta_T$ is notably smaller than that for *sklearn's* iterate $\\beta_\\star$. It is unclear why this may be; theorized reasons include dissimilar data-standardizing techniques, and computation error in *our* derivations or algorithms. "
   ]
  },
  {
   "cell_type": "markdown",
   "metadata": {},
   "source": [
    "__Cross-Validation & Misclassification Error__"
   ]
  },
  {
   "cell_type": "code",
   "execution_count": 11,
   "metadata": {},
   "outputs": [
    {
     "data": {
      "image/png": "[encoded data removed]",
      "text/plain": [
       "<Figure size 432x288 with 1 Axes>"
      ]
     },
     "metadata": {
      "needs_background": "light"
     },
     "output_type": "display_data"
    }
   ],
   "source": [
    "# use sklearn's calculation of optimal C, and correspondence to lambda\n",
    "optimal_lmbda = 1 / (2*len(y)*classifier.C_[0]) \n",
    "\n",
    "# train/test split\n",
    "X_train, X_test, y_train, y_test = train_test_split(X, y, random_state=0)\n",
    "\n",
    "new_gd_betas = graddescent(B, n0, epsilon, lmbda=optimal_lmbda, X=X_train, y=y_train)\n",
    "new_fg_betas = fastgradalgo(n0, epsilon, lmbda=optimal_lmbda, X=X_train, y=y_train)\n",
    "\n",
    "objective_plots(new_gd_betas, new_fg_betas, optimal_lmbda, X=X_train, y=y_train)"
   ]
  },
  {
   "cell_type": "code",
   "execution_count": 12,
   "metadata": {},
   "outputs": [],
   "source": [
    "def error_plots(train_flag=True):\n",
    "    x = X_train if train_flag else X_test\n",
    "    y = y_train if train_flag else y_test\n",
    "    \n",
    "    subtitle = \"Training Data\" if train_flag else \"Testing Data\"\n",
    "    title = \"Misclassification Error vs. Iterations, %s\" % subtitle\n",
    "    \n",
    "    gd_errs = []\n",
    "    fg_errs = []\n",
    "    \n",
    "    # missing function to transform B,X into a 0/1 y \n",
    "    for item in new_gd_betas:\n",
    "        pass \n",
    "    \n",
    "    for item in new_fg_betas:\n",
    "        pass \n",
    "    \n",
    "    return gd_errs, fg_errs"
   ]
  },
  {
   "cell_type": "code",
   "execution_count": 13,
   "metadata": {},
   "outputs": [],
   "source": [
    "# error_plots(train_flag=True)"
   ]
  },
  {
   "cell_type": "code",
   "execution_count": 14,
   "metadata": {},
   "outputs": [],
   "source": [
    "# error_plots(train_flag=False)"
   ]
  },
  {
   "cell_type": "markdown",
   "metadata": {},
   "source": [
    "Firstly we observe that the plot of objective values matches our earlier plots of the same. A quick check confirms that this is indeed because the optimal $\\lambda$ from *sklearn* turned out to be: "
   ]
  },
  {
   "cell_type": "code",
   "execution_count": 15,
   "metadata": {},
   "outputs": [
    {
     "data": {
      "text/plain": [
       "0.5"
      ]
     },
     "execution_count": 15,
     "metadata": {},
     "output_type": "execute_result"
    }
   ],
   "source": [
    "optimal_lmbda"
   ]
  },
  {
   "cell_type": "markdown",
   "metadata": {},
   "source": [
    "So, *sklearn* arrived at the same $\\lambda$ that had been used throughout the exercise, hence the plots of objective values were identical. \n",
    "\n",
    "Finally, note that at this point, a working misclassification-error curve for *our* algorithms was unable to be devised. "
   ]
  },
  {
   "cell_type": "markdown",
   "metadata": {},
   "source": [
    "# Exercise 2"
   ]
  },
  {
   "cell_type": "markdown",
   "metadata": {},
   "source": [
    "(a) As we increase $\\lambda$, the misclassification error on the training set will (iii), steadily increase. This is because the term penalizes the complexity, or variance, of a model. Here, it penalizes coefficients that fit to the noise in the training data (which leads to overfitting). Since we exclusively see the training set, it will seem that the error is only rising, because larger terms will increasingly restrict the coefficients, and hinder the model's learning of the training data. "
   ]
  },
  {
   "cell_type": "markdown",
   "metadata": {},
   "source": [
    "(b) For a large, previously unseen dataset (from the same distribution as the training data), the error will (ii), decrease initially and then increase in a U-shaped pattern. This is because the new set helps validate the model. If $\\lambda$ is increasing, then even though the training set may see worse performance, a larger regularization term lowers model variance. So, for this new data, we should see an inital lowering of the error, since $\\lambda$ is helping us generalize the model. However, after a certain point, increasing $\\lambda$ has too harsh and simplistic an effect on the coefficients. This reductive effect will increase the bias of the model, which will later result in a sharp uptick in the error."
   ]
  },
  {
   "cell_type": "markdown",
   "metadata": {},
   "source": [
    "__*Please note:*__ while the document says 'parts (a) through (e)', the provided questions only contain parts (a) and (b). "
   ]
  }
 ],
 "metadata": {
  "kernelspec": {
   "display_name": "Python 3",
   "language": "python",
   "name": "python3"
  },
  "language_info": {
   "codemirror_mode": {
    "name": "ipython",
    "version": 3
   },
   "file_extension": ".py",
   "mimetype": "text/x-python",
   "name": "python",
   "nbconvert_exporter": "python",
   "pygments_lexer": "ipython3",
   "version": "3.7.6"
  }
 },
 "nbformat": 4,
 "nbformat_minor": 4
}
