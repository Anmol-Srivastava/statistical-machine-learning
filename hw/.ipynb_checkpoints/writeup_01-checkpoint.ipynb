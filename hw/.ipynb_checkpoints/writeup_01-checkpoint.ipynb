{
 "cells": [
  {
   "cell_type": "markdown",
   "metadata": {},
   "source": [
    "1. You are a farmer looking to understand how your annual potato yield is affected by the environment on your farm, so that you can continue to increase your potato sales and (subsequently) income. There is annual data that describes the environment through such predictors as: average inches of rainfall, average amounts of pesticide used, and a categorical variable describing your soil quality as fair, good, or bad. The response is a numeric quantity (say, in KG) of your potato yield. Using regression, the past data can help you determine which of these features matter in the context of yield, and how. While this information can help you predict yield by substituting new predictor values, you are really interested with learning how potato growth depends on soil, rain, and temperature -- to then make better decisions, not predictions. So, this is an inference scenario.  \n",
    "\n",
    "\n",
    "2. Suppose a company wants to be able to predict monetary losses caused by the crashing of their servers, which has happened in the past. They have collected data from past crashes. The predictors are: how many of their servers went down, how long they went down, and the temperature in the server room. The response is the loss in revenue from the time the servers went down, to the time they all came back up. A regression model built on this data could help the company simulate a unique server shutdown, and predict the losses that would result. Let the company be less interested in exactly how minute changes in temperature (or shutdown length) impacts loss. Their interest is chiefly in forecasting losses as accurately as possible -- therefore, this application would be primarily prediction-oriented. \n",
    "\n",
    "\n",
    "3. Stuff\n",
    "\n",
    "Describe three real-life applications in which regression might be useful and one from an area of your choice.\n",
    "Describe the response, as well as the predictors. Is the goal of each application\n",
    "inference or prediction? Explain your answer.\n",
    "\n",
    "c)\n",
    "\n",
    "Describe three real-life applications in which cluster analysis might be useful, one\n",
    "from education, one from meteorology, and one from an area of your\n",
    "choice. Be sure to describe why it would be useful"
   ]
  },
  {
   "cell_type": "markdown",
   "metadata": {},
   "source": [
    "### Problem 5"
   ]
  },
  {
   "cell_type": "markdown",
   "metadata": {},
   "source": [
    "5. This exercise involves the Auto data set found here: http://www-bcf.usc.edu/~gareth/\n",
    "ISL/Auto.data. Make sure that the missing values have been removed from the data.\n",
    "(a) Which of the predictors are quantitative, and which are qualitative?\n",
    "(b) What is the range of each quantitative predictor?\n",
    "(c) What is the mean and standard deviation of each quantitative predictor?\n",
    "(d) Now remove the last 50 observations. What is the range, mean, and standard\n",
    "deviation of each quantitative predictor in the subset of the data that remains?\n",
    "(e) Using the full data set, investigate the predictors graphically, using scatterplots\n",
    "or other tools of your choice. Create some plots highlighting the relationships\n",
    "among the predictors. Comment on your findings.\n",
    "(f) Suppose that we wish to predict gas mileage (mpg) on the basis of the other\n",
    "variables. Do your plots suggest that any of the other variables might be useful\n",
    "in predicting mpg? Justify your answer.\n",
    "\n",
    "use output in writeup"
   ]
  },
  {
   "cell_type": "code",
   "execution_count": null,
   "metadata": {},
   "outputs": [],
   "source": []
  }
 ],
 "metadata": {
  "kernelspec": {
   "display_name": "Python 3",
   "language": "python",
   "name": "python3"
  },
  "language_info": {
   "codemirror_mode": {
    "name": "ipython",
    "version": 3
   },
   "file_extension": ".py",
   "mimetype": "text/x-python",
   "name": "python",
   "nbconvert_exporter": "python",
   "pygments_lexer": "ipython3",
   "version": "3.7.6"
  }
 },
 "nbformat": 4,
 "nbformat_minor": 4
}
