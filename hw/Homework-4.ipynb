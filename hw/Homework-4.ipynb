{
 "cells": [
  {
   "cell_type": "markdown",
   "metadata": {},
   "source": [
    "__Exercise 1:__ Linear SVM\n",
    "\n",
    "*Data Processing (see code in homework4.py)*"
   ]
  },
  {
   "cell_type": "code",
   "execution_count": 1,
   "metadata": {},
   "outputs": [],
   "source": [
    "import pandas as pd \n",
    "import numpy as np \n",
    "import matplotlib.pyplot as plt \n",
    "\n",
    "from sklearn.preprocessing import StandardScaler\n",
    "import sklearn.metrics \n",
    "\n",
    "\"\"\" DATA PROCESSING \"\"\"\n",
    "\n",
    "# access data, concatenate to split later \n",
    "df_train = pd.read_csv('https://web.stanford.edu/~hastie/ElemStatLearn/datasets/vowel.train')\n",
    "df_test = pd.read_csv('https://web.stanford.edu/~hastie/ElemStatLearn/datasets/vowel.test')\n",
    "df = pd.concat([df_train, df_test])\n",
    "\n",
    "# drop extra index \n",
    "df = df.drop('row.names', axis=1)\n",
    "\n",
    "# select '1' as positives and '2', '3' as negatives, drop rest, apply +/- 1 labels\n",
    "df = df[df.y.between(1, 3, inclusive=True)] \n",
    "df.y = df.y.apply(lambda x: 1 if x==1 else -1)\n",
    "\n",
    "# splitting data (70/15/15 ratio)\n",
    "n = len(df)\n",
    "\n",
    "# note: data is ordered in increasing pattern by response\n",
    "# (y=1, 2, ... 11, 1, 2, ... 11), hence split automatically provides \n",
    "# desired similarity in positive/negative-proportions for each set \n",
    "train, validate, test = np.split(df, [int(0.7*n), int(0.85*n)])\n",
    "\n",
    "y_train = train.y.to_numpy()\n",
    "y_val = validate.y.to_numpy()\n",
    "y_test = test.y.to_numpy()\n",
    "\n",
    "X_train = train.drop('y', axis=1).to_numpy()\n",
    "X_val = validate.drop('y', axis=1).to_numpy()\n",
    "X_test = test.drop('y', axis=1).to_numpy()\n",
    "\n",
    "# standardize based off of training set \n",
    "scaler = StandardScaler()\n",
    "X_train = scaler.fit_transform(X_train)\n",
    "X_val = scaler.transform(X_val)\n",
    "X_test = scaler.transform(X_test)"
   ]
  },
  {
   "cell_type": "markdown",
   "metadata": {},
   "source": [
    "*Gradient Derivation*"
   ]
  },
  {
   "cell_type": "markdown",
   "metadata": {},
   "source": [
    "Given our objective function, our gradient function is:\n",
    "\n",
    "\\begin{equation}\n",
    "\\nabla F(\\beta)= 2\\lambda\\beta\\:+\\frac{\\rho}{n}\\sum_{i=1;\\:y=+1}^{n}{\\nabla \\ell_{hh}(y_i,x_i^T\\beta)}\\:+\\:\\frac{1-\\rho}{n}\\sum_{i=1;\\:y=-1}^{n}{\\nabla \\ell_{hh}(y_i,x_i^T\\beta)}\n",
    "\\end{equation}\n",
    "\n",
    "Where $\\nabla \\ell_{hh}(y_i,x_i^T\\beta)$ is as follows. __*Note:*__ to differentiate with respect to $\\beta$, it is necessary to represent the $t$ term in $\\nabla \\ell_{hh}(y, t)$ as $x_i^T\\beta$.\n",
    "\n",
    "\\begin{equation}\n",
    "\\nabla \\ell_{hh}(y_i, x_i^T\\beta) := \\left\\{\n",
    "                                        \\begin{array}{ll}\n",
    "                                            0 & \\quad \\text{if}\\:\\:y_i x_i^T\\beta > 1+h \\\\\n",
    "                                            \\frac{1}{2h}(1+h-y_i x_i^T\\beta)(-y_i x_i) & \\quad \\text{if}\\:\\:|1-y_i x_i^T\\beta| \\leq h \\\\\n",
    "                                            -y_i x_i & \\quad \\text{if}\\:\\:y_i x_i^T\\beta < 1-h\n",
    "                                        \\end{array}\n",
    "                                     \\right.\n",
    "\\end{equation}"
   ]
  },
  {
   "cell_type": "markdown",
   "metadata": {},
   "source": [
    "*Function Definitions (see code in homework4.py)*"
   ]
  },
  {
   "cell_type": "code",
   "execution_count": 2,
   "metadata": {},
   "outputs": [],
   "source": [
    "\"\"\" FUNCTIONS \"\"\"\n",
    "\n",
    "def huber_loss(y, t, h=0.5):\n",
    "    lhh = None\n",
    "    if y*t > 1+h:\n",
    "        lhh = 0\n",
    "    elif np.abs(1-(y*t)) <= h:\n",
    "        lhh = ((1+h-(y*t))**2) / (4*h)\n",
    "    elif y*t < 1-h:\n",
    "        lhh = 1-(y*t)\n",
    "    else: \n",
    "        print('Parameter failure in Huber loss function.')\n",
    "    return lhh "
   ]
  },
  {
   "cell_type": "code",
   "execution_count": 3,
   "metadata": {},
   "outputs": [],
   "source": [
    "def grad_huber_loss(y, X, B, h=0.5):\n",
    "    # expect col. vector X\n",
    "    t = np.dot(X,B)\n",
    "    grad_lhh = None\n",
    "    if y*t > 1+h:\n",
    "        grad_lhh = np.zeros(X.shape)\n",
    "    elif np.abs(1-(y*t)) <= h:\n",
    "        grad_lhh = (1/(2*h)) * (1+h-(y*t)) * (-y*X) \n",
    "    elif y*t < 1-h:\n",
    "        grad_lhh = -y*X\n",
    "    else: \n",
    "        print('Parameter failure in Huber loss function.')\n",
    "    return grad_lhh "
   ]
  },
  {
   "cell_type": "code",
   "execution_count": 4,
   "metadata": {},
   "outputs": [],
   "source": [
    "def obj(B, rho, lmbda, X, y):\n",
    "    penalty = lmbda * np.linalg.norm(B)**2\n",
    "    pos_term = 0\n",
    "    neg_term = 0 \n",
    "    \n",
    "    for i in np.where(y == 1)[0]:\n",
    "        pos_term += huber_loss(y[i], np.dot(X[i], B))\n",
    "    \n",
    "    for i in np.where(y == -1)[0]:\n",
    "        neg_term += huber_loss(y[i], np.dot(X[i], B)) \n",
    "    \n",
    "    pos_term *= rho/len(y)\n",
    "    neg_term *= (1-rho)/len(y)\n",
    "    return penalty + pos_term + neg_term "
   ]
  },
  {
   "cell_type": "code",
   "execution_count": 5,
   "metadata": {},
   "outputs": [],
   "source": [
    "def grad(B, rho, lmbda, X, y):\n",
    "    penalty = 2*lmbda*B\n",
    "    pos_term = np.zeros(X.shape[1])\n",
    "    neg_term = np.zeros(X.shape[1])\n",
    "    \n",
    "    for i in np.where(y == 1)[0]: \n",
    "        pos_term += grad_huber_loss(y[i], X[i], B)\n",
    "    \n",
    "    for i in np.where(y == -1)[0]:\n",
    "        neg_term += grad_huber_loss(y[i], X[i], B)\n",
    "    \n",
    "    pos_term *= rho/len(y)\n",
    "    neg_term *= (1-rho)/len(y)\n",
    "    return penalty + pos_term + neg_term "
   ]
  },
  {
   "cell_type": "code",
   "execution_count": 6,
   "metadata": {},
   "outputs": [],
   "source": [
    "def backtracking(B, rho, lmbda, X, y, eta=1, alpha=0.5, gamma=0.8, max_iter=100):\n",
    "    grad_B = grad(B, rho, lmbda, X, y)\n",
    "    norm_grad_B = np.linalg.norm(grad_B)\n",
    "    found_eta = 0\n",
    "    num_iters = 0\n",
    "    \n",
    "    while found_eta == 0 and num_iters < max_iter:\n",
    "        if obj(B-eta*grad_B, rho, lmbda, X, y) < obj(B, rho, lmbda, X, y)-alpha*eta*norm_grad_B**2:\n",
    "            found_eta = 1\n",
    "        elif num_iters == max_iter:\n",
    "            raise('Max. iteration of BLS reached.')\n",
    "        else:\n",
    "            eta *= gamma\n",
    "            num_iters += 1 \n",
    "            \n",
    "    return eta"
   ]
  },
  {
   "cell_type": "code",
   "execution_count": 7,
   "metadata": {},
   "outputs": [],
   "source": [
    "def mylinearsvm(rho, lmbda, X, y, eps=5e-3):\n",
    "    # init eta using L constant as described in class \n",
    "    w, v = np.linalg.eigh((1/len(y)) * np.dot(X.T, X))\n",
    "    \n",
    "    beta = np.zeros(X.shape[1])\n",
    "    theta = np.zeros(X.shape[1])    \n",
    "    eta = 1 / (max(w) + lmbda) \n",
    "    \n",
    "    grad_theta = grad(theta, rho, lmbda, X, y)\n",
    "    \n",
    "    grad_beta = grad(beta, rho, lmbda, X, y)\n",
    "    \n",
    "    beta_vals = beta \n",
    "    t = 0 \n",
    "    \n",
    "    while np.linalg.norm(grad_beta) > eps:\n",
    "        # hw3 soln used theta instead of beta as arg here -- unsure if error\n",
    "        eta = backtracking(beta, rho, lmbda, X, y, eta=eta) \n",
    "        beta_new = theta - eta*grad_theta \n",
    "        theta = beta_new + (t/(t+3)) * (beta_new-beta)\n",
    "        \n",
    "        beta_vals = np.vstack((beta_vals, beta))\n",
    "        grad_theta = grad(theta, rho, lmbda, X, y)\n",
    "        grad_beta = grad(beta, rho, lmbda, X, y)\n",
    "        beta = beta_new\n",
    "        t += 1 \n",
    "    \n",
    "    return beta_vals "
   ]
  },
  {
   "cell_type": "markdown",
   "metadata": {},
   "source": [
    "*Training Performance ($\\lambda=1, \\rho=1$)*"
   ]
  },
  {
   "cell_type": "code",
   "execution_count": 8,
   "metadata": {},
   "outputs": [
    {
     "name": "stdout",
     "output_type": "stream",
     "text": [
      "General misclassification error is: 21.16%.\n",
      "Achieved sensitivity is: 87.30%.\n",
      "Achieved specificity is: 74.60%.\n"
     ]
    }
   ],
   "source": [
    "\"\"\" TRAINING & TESTING \"\"\"\n",
    "\n",
    "# rho=1, lambda=1\n",
    "final_beta = mylinearsvm(1, 1, X_train, y_train)[-1]\n",
    "\n",
    "def performance_metrics(B, X, y, output=True):\n",
    "    P = len(np.flatnonzero(y==1))\n",
    "    N = len(np.flatnonzero(y==-1))\n",
    "    TN = 0\n",
    "    FN = 0\n",
    "    TP = 0\n",
    "    FP = 0\n",
    "        \n",
    "    for i in range(len(y)):\n",
    "        if int(np.sign(np.dot(X[i], final_beta))) == 1:\n",
    "            TP = TP+1 if y[i]==1 else TP\n",
    "            FP = FP+1 if y[i]==-1 else FP\n",
    "        else:\n",
    "            TN = TN+1 if y[i]==-1 else TN\n",
    "            FN = FN+1 if y[i]==1 else FN \n",
    "    \n",
    "    misclassed = 100*(FP+FN)/len(y)\n",
    "    sens = 100*TP/P\n",
    "    spec = 100*TN/N\n",
    "    \n",
    "    if output:\n",
    "        print('General misclassification error is: %.2f%%.' % misclassed)\n",
    "        print('Achieved sensitivity is: %.2f%%.' % sens)\n",
    "        print('Achieved specificity is: %.2f%%.' % spec)\n",
    "            \n",
    "    return (misclassed, sens, spec)\n",
    "\n",
    "\n",
    "# feedback on rho=1, lambda=1\n",
    "metrics = performance_metrics(final_beta, X_train, y_train)"
   ]
  },
  {
   "cell_type": "markdown",
   "metadata": {},
   "source": [
    "*Training Performance ($\\lambda=1, \\rho=0.1, 0.2, ..., 0.9, 1.0$)*\n",
    "\n",
    "A recurring problem emerges (and is found in others' work, as well). The variation in $\\rho$ seems to have a negligible effect on $\\beta$, and hence a negligible effect on all performance metrics. Outside of derivation and coding issues, it is believed that qualities inherent to the data may be causing this behavior. Hence, the plotted lines are nearly flat (they increase slightly for the much larger values of $\\rho$). "
   ]
  },
  {
   "cell_type": "code",
   "execution_count": 9,
   "metadata": {},
   "outputs": [
    {
     "data": {
      "image/png": "[encoded data removed]",
      "text/plain": [
       "<Figure size 432x288 with 1 Axes>"
      ]
     },
     "metadata": {
      "needs_background": "light"
     },
     "output_type": "display_data"
    }
   ],
   "source": [
    "# lambda=1, rho=0.1 to 1.0\n",
    "rhos = [x/10 for x in list(range(1,11))]\n",
    "lmbda = 1 \n",
    "\n",
    "misclass_errs = []\n",
    "sensitivities = []\n",
    "specificities = [] \n",
    "\n",
    "for rho in rhos:\n",
    "    final_beta = mylinearsvm(rho, lmbda, X_train, y_train)[-1]\n",
    "    metrics = performance_metrics(final_beta, X_train, y_train, output=False)\n",
    "    misclass_errs.append(metrics[0]/100)\n",
    "    sensitivities.append(metrics[1]/100)\n",
    "    specificities.append(metrics[2]/100)\n",
    "\n",
    "plt.plot(rhos, misclass_errs, label=\"Misclassification Error\")\n",
    "plt.plot(rhos, sensitivities, label=\"Sensitivity\")\n",
    "plt.plot(rhos, specificities, label=\"Specificity\")\n",
    "plt.title('Performance Metrics vs. Imbalance Parameter')\n",
    "plt.xlabel('Imbalance Parameter')\n",
    "plt.ylabel('Metric Value')\n",
    "plt.legend()\n",
    "plt.show()"
   ]
  },
  {
   "cell_type": "markdown",
   "metadata": {},
   "source": [
    "*Varying $\\lambda$ & $\\rho$*\n",
    "\n",
    "We tune the algorithm along two dimensions: $\\lambda=0.1, 0.2, ..., 0.9, 1.0$ and $\\rho=0.1, 0.2, ..., 0.9, 1.0$. Our grid of values for $\\lambda$ and $\\rho$ is hence of size $10\\:x\\:10$. To calculate area-under-the-curve, where the ROC curve is defined as $\\frac{sensitivity}{1-specificity}$, we use *__sklearn.metrics.roc_auc_score__*. The pair of $\\lambda$ and $\\rho$ values that optimize area-under-the-curve for the *__validation data__*, and the optimal AUC value itself, are as follow. Lastly computed is the sensitivity and specificity for this pair of values, on the *__testing set__*. "
   ]
  },
  {
   "cell_type": "code",
   "execution_count": 10,
   "metadata": {},
   "outputs": [
    {
     "name": "stdout",
     "output_type": "stream",
     "text": [
      "For the validation set:\n",
      "\n",
      "The optimal value of lambda is: 0.1.\n",
      "The optimal value of rho is: 0.1.\n",
      "The corresponding, optimized area-under-the-ROC-curve is: 0.98.\n",
      "\n",
      "For the testing set (using above optimal parameters):\n",
      "\n",
      "The achieved sensitivity is: 38.46%\n",
      "The achieved specificity is: 85.71%\n"
     ]
    }
   ],
   "source": [
    "# varying both lambda and rho\n",
    "lambdas = rhos \n",
    "\n",
    "def predict(B, X=X_val, y=y_val):\n",
    "    predictions=np.array([])\n",
    "    \n",
    "    for i in range(len(y)):\n",
    "        predictions = np.append(predictions, int(np.sign(np.dot(X[i], B))))\n",
    "        \n",
    "    return predictions \n",
    "\n",
    "\n",
    "# makeshift grid search \n",
    "optimal_roc_auc = 0\n",
    "optimal_rho = -1\n",
    "optimal_lambda = -1 \n",
    "optimal_B = -1\n",
    "\n",
    "for l in lambdas:\n",
    "    for r in rhos: \n",
    "        Bf = mylinearsvm(r, l, X_val, y_val)[-1]\n",
    "        y_preds = predict(Bf)\n",
    "        score = sklearn.metrics.roc_auc_score(y_val, y_preds)\n",
    "        \n",
    "        if score > optimal_roc_auc:\n",
    "            optimal_roc_auc = score\n",
    "            optimal_rho = r\n",
    "            optimal_lambda = l\n",
    "            optimal_B = Bf\n",
    "            \n",
    "\n",
    "print('For the validation set:\\n\\nThe optimal value of lambda is: %.1f.' % optimal_lambda)\n",
    "print('The optimal value of rho is: %.1f.' % optimal_rho)\n",
    "print('The corresponding, optimized area-under-the-ROC-curve is: %.2f.' % optimal_roc_auc)\n",
    "\n",
    "metrics = performance_metrics(optimal_B, X_test, y_test, output=False)\n",
    "print('\\nFor the testing set (using above optimal parameters):\\n')\n",
    "print('The achieved sensitivity is: %.2f%%' % metrics[1])\n",
    "print('The achieved specificity is: %.2f%%' % metrics[2])"
   ]
  },
  {
   "cell_type": "markdown",
   "metadata": {},
   "source": [
    "__Exercise 3__\n",
    "\n",
    "*Linear Regression Insomnia*\n",
    "\n",
    "For Bobbie, the time taken to train the model will play a significant part in the decision regarding which optimization algorithm he should use. That means if he is training a linear regression model (say, using gradient descent), I would recommend he use the *__Fast Gradient__* algorithm as discussed in class. This includes the use of *backtracking line search* for an adaptive step-size, and has the general advantage of converging to desirable solution faster than standard gradient descent algorithm. Note that if possible, I also recommend that Bobbie incorporate some form of *penalized/regularized* linear regression, since he is also tasked with validating the model on a dataset. This way, his model is discouraged from overfitting, without adding much time to the process. \n",
    "\n",
    "*The Next Big Thing*\n",
    "\n",
    "I would not invest anything into Joey's company. The inclusion of the test set during training will naturally lead to a poorly-generalizable model. The model (never tested) will follow the noise of availabe samples too closely, or overfit. The combining of the data means that while Joey may predict his testing samples perfectly, the variance of his model will be high. That is, performance on other datasets will be undoubtedly inconsistent. I will urgently relay to Joey that, clearly, this means his model is not ready for real-world use. I will then re-evaluate why Joey has stayed my colleague for so long. "
   ]
  }
 ],
 "metadata": {
  "kernelspec": {
   "display_name": "Python 3",
   "language": "python",
   "name": "python3"
  },
  "language_info": {
   "codemirror_mode": {
    "name": "ipython",
    "version": 3
   },
   "file_extension": ".py",
   "mimetype": "text/x-python",
   "name": "python",
   "nbconvert_exporter": "python",
   "pygments_lexer": "ipython3",
   "version": "3.7.6"
  }
 },
 "nbformat": 4,
 "nbformat_minor": 4
}
