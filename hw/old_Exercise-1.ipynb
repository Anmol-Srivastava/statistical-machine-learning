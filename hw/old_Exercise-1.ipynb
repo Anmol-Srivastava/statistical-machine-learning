{
 "cells": [
  {
   "cell_type": "markdown",
   "metadata": {},
   "source": [
    "# PCA & Power Iteration \n",
    "\n",
    "*Please find implementations in homework6.py.*\n",
    "\n",
    "*a)* Generating simulated data. \n",
    "\n",
    "*b)* Power Iteration implementation. \n",
    "\n",
    "We can see that testing against the small-scale example given in the assignment, does yield the expected values for $v_1$ *assuming that the given matrix is the covariance matrix, not the raw data*. "
   ]
  },
  {
   "cell_type": "code",
   "execution_count": 113,
   "metadata": {},
   "outputs": [],
   "source": [
    "import numpy as np \n",
    "\n",
    "\"\"\" GENERATING SIMULATED DATA \"\"\"\n",
    "\n",
    "# data pulled from gaussian distribution with mean shifts  \n",
    "X1 = np.random.normal(0, 1, (100,20))\n",
    "X2 = np.random.normal(5, 1, (100,20))\n",
    "X3 = np.random.normal(10, 1, (100,20))\n",
    "\n",
    "# combine (assume: response & train/test split not needed)\n",
    "X = np.concatenate((X1, X2, X3))"
   ]
  },
  {
   "cell_type": "code",
   "execution_count": 114,
   "metadata": {},
   "outputs": [],
   "source": [
    "\"\"\" FUNCTION DEFINITIONS \"\"\"\n",
    "\n",
    "def covariance_matrix(X):\n",
    "    mean = np.mean(X, axis=0)\n",
    "    C = np.zeros((X.shape[1], X.shape[1]))\n",
    "    \n",
    "    # note: formula from class =/= numpy implementation \n",
    "    for i in range(len(X)):\n",
    "        diff = (X[i] - mean)[:, np.newaxis]\n",
    "        C += np.dot(diff, diff.T)\n",
    "        \n",
    "    return C / (len(X)-1)"
   ]
  },
  {
   "cell_type": "code",
   "execution_count": 115,
   "metadata": {},
   "outputs": [],
   "source": [
    "def solve(v, C):\n",
    "    v = v[:, np.newaxis]\n",
    "    return np.dot(v.T, np.dot(C,v))"
   ]
  },
  {
   "cell_type": "code",
   "execution_count": 116,
   "metadata": {},
   "outputs": [],
   "source": [
    "def power_iteration(X, max_iter, covariance=None, testing=False):\n",
    "    v_k = np.array([1,2]) if testing else np.random.rand(X.shape[1])\n",
    "    A = covariance_matrix(X) if covariance is None else covariance\n",
    "    lmbda = None\n",
    "    \n",
    "    for _ in range(max_iter):\n",
    "        z_k = np.dot(A, v_k)\n",
    "        v_k = z_k / np.linalg.norm(z_k)\n",
    "        lmbda_k = solve(v_k, A)\n",
    "    \n",
    "    return v_k, lmbda_k"
   ]
  },
  {
   "cell_type": "code",
   "execution_count": 117,
   "metadata": {},
   "outputs": [
    {
     "name": "stdout",
     "output_type": "stream",
     "text": [
      "Test Matrix, defined row-wise as:\n",
      "[[1, 2], [0, 3]]\n",
      "\n",
      "Resulting column vector, defined row-wise, from power_iteration:\n",
      "[0.64, 0.77]\n"
     ]
    }
   ],
   "source": [
    "\"\"\" TESTING & PLOTTING \"\"\"\n",
    "\n",
    "# checking on small matrix with given values\n",
    "test = np.array([[1, 2], [0, 3]])\n",
    "test_result = power_iteration(test, 1, covariance=test, testing=True)[0]\n",
    "test_result = [round(x,2) for x in test_result]\n",
    "\n",
    "print('Test Matrix, defined row-wise as:')\n",
    "print(test.tolist())\n",
    "print('\\nResulting column vector, defined row-wise, from power_iteration:')\n",
    "print(test_result)"
   ]
  },
  {
   "cell_type": "markdown",
   "metadata": {},
   "source": [
    "Next, we compute the first principal component on our 300 observations. "
   ]
  },
  {
   "cell_type": "code",
   "execution_count": 118,
   "metadata": {},
   "outputs": [
    {
     "name": "stdout",
     "output_type": "stream",
     "text": [
      "1st Principal Component (1000 iterations)):\n",
      "\n",
      "[[0.22700041]\n",
      " [0.22493449]\n",
      " [0.22482646]\n",
      " [0.22346138]\n",
      " [0.22063244]\n",
      " [0.22117941]\n",
      " [0.22671477]\n",
      " [0.22520898]\n",
      " [0.22726796]\n",
      " [0.22990405]\n",
      " [0.22302921]\n",
      " [0.22028463]\n",
      " [0.21313702]\n",
      " [0.21922401]\n",
      " [0.22922665]\n",
      " [0.22739708]\n",
      " [0.22285121]\n",
      " [0.21858808]\n",
      " [0.22076981]\n",
      " [0.22578347]]\n"
     ]
    }
   ],
   "source": [
    "# first pc on big data, reshape for later\n",
    "pc1, e1 = power_iteration(X,1000)\n",
    "pc1 = pc1.reshape(pc1.shape[0],1)\n",
    "\n",
    "print('1st Principal Component (1000 iterations)):\\n')\n",
    "print(pc1)"
   ]
  },
  {
   "cell_type": "markdown",
   "metadata": {},
   "source": [
    "We apply the necessary deflation, and perform Power Iteration again on our observations, to obtain the second principal component."
   ]
  },
  {
   "cell_type": "code",
   "execution_count": 119,
   "metadata": {},
   "outputs": [
    {
     "name": "stdout",
     "output_type": "stream",
     "text": [
      "2nd Principal Component (1000 iterations)):\n",
      "\n",
      "[[-0.04881631]\n",
      " [-0.47598032]\n",
      " [-0.19522756]\n",
      " [ 0.32762764]\n",
      " [-0.16212745]\n",
      " [ 0.2187849 ]\n",
      " [ 0.06946729]\n",
      " [ 0.0775756 ]\n",
      " [-0.07999524]\n",
      " [ 0.01568158]\n",
      " [-0.14462649]\n",
      " [ 0.38053829]\n",
      " [ 0.40585117]\n",
      " [ 0.16250139]\n",
      " [-0.14155066]\n",
      " [ 0.05277676]\n",
      " [-0.3338124 ]\n",
      " [-0.08015033]\n",
      " [-0.14458835]\n",
      " [ 0.12463717]]\n"
     ]
    }
   ],
   "source": [
    "# modify data and compute second pc \n",
    "A = covariance_matrix(X) - e1*np.dot(pc1, pc1.T)\n",
    "pc2, e2 = power_iteration(A, 1000)\n",
    "pc2 = pc2.reshape(pc2.shape[0], 1)\n",
    "\n",
    "print('2nd Principal Component (1000 iterations)):\\n')\n",
    "print(pc2)"
   ]
  },
  {
   "cell_type": "markdown",
   "metadata": {},
   "source": [
    "Lastly, we plot the first two principal component score vectors, after computing the projected data (using the first two principal comopnents). Our plot preserves the significant separation of the three classes, and we can see that the projection creates a reduced view of the data, into its highest-variance version. "
   ]
  },
  {
   "cell_type": "code",
   "execution_count": 120,
   "metadata": {},
   "outputs": [
    {
     "data": {
      "text/plain": [
       "<matplotlib.legend.Legend at 0x7f280b213290>"
      ]
     },
     "execution_count": 120,
     "metadata": {},
     "output_type": "execute_result"
    },
    {
     "data": {
      "image/png": "[encoded data removed]",
      "text/plain": [
       "<Figure size 432x288 with 1 Axes>"
      ]
     },
     "metadata": {
      "needs_background": "light"
     },
     "output_type": "display_data"
    }
   ],
   "source": [
    "import matplotlib.pyplot as plt\n",
    "pc1 = pc1.reshape(pc1.shape[0])\n",
    "pc2 = pc2.reshape(pc2.shape[0])\n",
    "\n",
    "proj = np.dot(np.array([pc1,pc2]), X.T).T\n",
    "plt.scatter(proj[:100,0], proj[:100,1], label=\"Class 1 (X1)\")\n",
    "plt.scatter(proj[100:200,0], proj[100:200,1], label=\"Class 2 (X2)\")\n",
    "plt.scatter(proj[200:300,0], proj[200:300,1], label=\"Class 3 (X3)\")\n",
    "plt.legend()"
   ]
  },
  {
   "cell_type": "markdown",
   "metadata": {},
   "source": [
    "*c)* We compare with scikit-learn. It can be seen that indeed, scikit-learn's projections preserve the inherent (and significant) separation between the three classes, but also transform the data into its highest-variance version. This also greatly resembles *__our__* plot above, but the scaling is different (likely due to scikit-learn's implicit scaling of data)."
   ]
  },
  {
   "cell_type": "code",
   "execution_count": 121,
   "metadata": {},
   "outputs": [
    {
     "data": {
      "text/plain": [
       "<matplotlib.legend.Legend at 0x7f280b2c56d0>"
      ]
     },
     "execution_count": 121,
     "metadata": {},
     "output_type": "execute_result"
    },
    {
     "data": {
      "image/png": "[encoded data removed]",
      "text/plain": [
       "<Figure size 432x288 with 1 Axes>"
      ]
     },
     "metadata": {
      "needs_background": "light"
     },
     "output_type": "display_data"
    }
   ],
   "source": [
    "\"\"\" COMPARISON & PLOTTING \"\"\"\n",
    "\n",
    "from sklearn.decomposition import PCA \n",
    "\n",
    "pca = PCA()\n",
    "X_new = pca.fit_transform(X)\n",
    "plt.scatter(X_new[:100,0], X_new[:100,1], label=\"Class 1 (X1)\")\n",
    "plt.scatter(X_new[100:200,0], X_new[100:200,1], label=\"Class 2 (X2)\")\n",
    "plt.scatter(X_new[200:300,0], X_new[200:300,1], label=\"Class 3 (X3)\")\n",
    "plt.legend()"
   ]
  },
  {
   "cell_type": "markdown",
   "metadata": {},
   "source": [
    "*d)* In class, it was suggested that run power iteration such that the ratio of explained variance to overall/total variance was around 95%. Alternatively, the ratio of un-explained variance to overall variance should be around 5%. At each iteration of `power_iteration`, we could caculate the explained and un-explained variance from our principal components, compare it to the overall variance, and use the computed ratio as a stopping criterion. Once a desirable explainability-ratio is reached, the algorithm need not continue any longer. "
   ]
  }
 ],
 "metadata": {
  "kernelspec": {
   "display_name": "Python 3",
   "language": "python",
   "name": "python3"
  },
  "language_info": {
   "codemirror_mode": {
    "name": "ipython",
    "version": 3
   },
   "file_extension": ".py",
   "mimetype": "text/x-python",
   "name": "python",
   "nbconvert_exporter": "python",
   "pygments_lexer": "ipython3",
   "version": "3.7.6"
  }
 },
 "nbformat": 4,
 "nbformat_minor": 4
}
