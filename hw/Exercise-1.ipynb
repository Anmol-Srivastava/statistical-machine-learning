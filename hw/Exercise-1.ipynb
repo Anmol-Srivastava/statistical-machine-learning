{
 "cells": [
  {
   "cell_type": "code",
   "execution_count": 117,
   "metadata": {},
   "outputs": [],
   "source": [
    "import numpy as np \n",
    "import pandas as pd \n",
    "import matplotlib.pyplot as plt \n",
    "from sklearn.preprocessing import StandardScaler \n",
    "from sklearn.linear_model import LassoCV "
   ]
  },
  {
   "cell_type": "markdown",
   "metadata": {},
   "source": [
    "Computing the solution to the minimization problem, in the $d=1, n=1$ case:"
   ]
  },
  {
   "cell_type": "code",
   "execution_count": 149,
   "metadata": {},
   "outputs": [],
   "source": [
    "def simple_minimization(lmbda, x, y):\n",
    "    if x*y > lmbda:\n",
    "        return ((x*y) - lmbda) / (x**2)\n",
    "    elif x*y < -lmbda:\n",
    "        return ((x*y) + lmbda) / (x**2)\n",
    "    elif np.absolute(x*y) <= lmbda:\n",
    "        return 0\n",
    "    else:\n",
    "        print('Invalid arguments.')"
   ]
  },
  {
   "cell_type": "markdown",
   "metadata": {},
   "source": [
    "Verification via comparison with a graph of $F(\\beta)$, where $x=1, y=1, \\lambda=1$:"
   ]
  },
  {
   "cell_type": "code",
   "execution_count": 35,
   "metadata": {},
   "outputs": [
    {
     "name": "stdout",
     "output_type": "stream",
     "text": [
      "Computed value for optimal Beta: 0.00\n"
     ]
    },
    {
     "data": {
      "image/png": "[encoded data removed]",
      "text/plain": [
       "<Figure size 432x288 with 1 Axes>"
      ]
     },
     "metadata": {
      "needs_background": "light"
     },
     "output_type": "display_data"
    }
   ],
   "source": [
    "x, y, lmd = 1, 1, 1\n",
    "B = np.linspace(start=-10, stop=10, num=101)\n",
    "F = 0.5*(y-x*B)**2 + lmd*np.absolute(B)\n",
    "\n",
    "sol = simple_minimization(lmd, x, y)\n",
    "print('Computed value for optimal Beta: %.2f' % sol)\n",
    "\n",
    "plt.plot(B,F)\n",
    "plt.title('Objective Function, Over Beta')\n",
    "plt.show()"
   ]
  },
  {
   "cell_type": "markdown",
   "metadata": {},
   "source": [
    "Verficiation via comparison with a graph of $F(\\beta)$, where $x=-1, y=-1, \\lambda=-1$:"
   ]
  },
  {
   "cell_type": "code",
   "execution_count": 32,
   "metadata": {},
   "outputs": [
    {
     "name": "stdout",
     "output_type": "stream",
     "text": [
      "Computed value for optimal Beta: 2.00\n"
     ]
    },
    {
     "data": {
      "image/png": "[encoded data removed]",
      "text/plain": [
       "<Figure size 432x288 with 1 Axes>"
      ]
     },
     "metadata": {
      "needs_background": "light"
     },
     "output_type": "display_data"
    }
   ],
   "source": [
    "x, y, lmd = -1, -1, -1\n",
    "B = np.linspace(start=-10, stop=10, num=101)\n",
    "F = 0.5*(y-x*B)**2 + lmd*np.absolute(B)\n",
    "\n",
    "sol = simple_minimization(lmd, x, y)\n",
    "print('Computed value for optimal Beta: %.2f' % sol)\n",
    "\n",
    "plt.plot(B,F)\n",
    "plt.title('Objective Function, Over Beta')\n",
    "plt.show()"
   ]
  },
  {
   "cell_type": "markdown",
   "metadata": {},
   "source": [
    "In both cases, we see that the function returns the same value for $\\beta$ at which the minimum occurs in the corresponding plot. \n",
    "\n",
    "Now we move to the $d > 1, n > 1$ case. "
   ]
  },
  {
   "cell_type": "code",
   "execution_count": 150,
   "metadata": {},
   "outputs": [],
   "source": [
    "def partial_minimization(B, lmbda, X, y, j):\n",
    "    sum = 0\n",
    "    \n",
    "    for i in range(len(X)):\n",
    "        sum += simple_minimization(lmbda, X[i][j], y[i])\n",
    "        \n",
    "    sum /= (2*len(X))\n",
    "    return sum         "
   ]
  },
  {
   "cell_type": "markdown",
   "metadata": {},
   "source": [
    "We retrieve the data:"
   ]
  },
  {
   "cell_type": "code",
   "execution_count": 151,
   "metadata": {},
   "outputs": [],
   "source": [
    "# access\n",
    "hitters = pd.read_csv('https://raw.githubusercontent.com/selva86/datasets/master/Hitters.csv', sep=',', header=0)\n",
    "hitters = hitters.dropna()\n",
    "\n",
    "# split \n",
    "y = hitters.Salary.to_numpy()\n",
    "del hitters['Salary']\n",
    "\n",
    "# standardize \n",
    "league = pd.get_dummies(hitters.League, prefix='league')\n",
    "div = pd.get_dummies(hitters.Division)\n",
    "new_league = pd.get_dummies(hitters.NewLeague, prefix='new_league')\n",
    "\n",
    "del hitters['League']\n",
    "del hitters['Division']\n",
    "del hitters['NewLeague']\n",
    "\n",
    "hitters = hitters.join(league)\n",
    "hitters = hitters.join(div)\n",
    "hitters = hitters.join(new_league)\n",
    "hitters = hitters.to_numpy()\n",
    "\n",
    "scaler = StandardScaler()\n",
    "X = scaler.fit_transform(hitters)"
   ]
  },
  {
   "cell_type": "markdown",
   "metadata": {},
   "source": [
    "We have the additional functions:"
   ]
  },
  {
   "cell_type": "code",
   "execution_count": 197,
   "metadata": {},
   "outputs": [],
   "source": [
    "def computeobj(B, lmbda, X, y):\n",
    "    risk = (1/(2*len(X))) * np.sum((y-X.dot(B))**2)\n",
    "    penalty = lmbda * np.linalg.norm(B, ord=1) \n",
    "    return risk + penalty "
   ]
  },
  {
   "cell_type": "code",
   "execution_count": 192,
   "metadata": {},
   "outputs": [],
   "source": [
    "def cycliccoorddescent(B_init, lmbda, X, y, max_iter=1000):\n",
    "    B = B_init\n",
    "    Bs = B\n",
    "    t = 0\n",
    "    j = 0 \n",
    "    \n",
    "    while t < max_iter:\n",
    "        B[j] = partial_minimization(B[j], lmbda, X, y, j)\n",
    "        Bs = np.vstack((Bs, B))\n",
    "        j = 0 if (j == X.shape[1]-1) else (j+1)\n",
    "        t += 1 \n",
    "        \n",
    "    return Bs "
   ]
  },
  {
   "cell_type": "code",
   "execution_count": 188,
   "metadata": {},
   "outputs": [],
   "source": [
    "def pickcoord(d):\n",
    "    # because we sample from {1...d}, we must -1 where function is called \n",
    "    return np.random.randint(1,d+1)"
   ]
  },
  {
   "cell_type": "code",
   "execution_count": 189,
   "metadata": {},
   "outputs": [],
   "source": [
    "def randcoorddescent(B_init, lmbda, X, y, max_iter=1000):\n",
    "    B = B_init\n",
    "    Bs = B\n",
    "    t = 0 \n",
    "    j = 0 \n",
    "    \n",
    "    while t < max_iter:\n",
    "        j = pickcoord(X.shape[1]) - 1\n",
    "        B[j] = partial_minimization(B[j], lmbda, X, y, j)\n",
    "        Bs = np.vstack((Bs, B))\n",
    "        t += 1\n",
    "    \n",
    "    return Bs "
   ]
  },
  {
   "cell_type": "markdown",
   "metadata": {},
   "source": [
    "Optimal $\\lambda$ via sklearn:"
   ]
  },
  {
   "cell_type": "code",
   "execution_count": 190,
   "metadata": {},
   "outputs": [
    {
     "name": "stdout",
     "output_type": "stream",
     "text": [
      "Optimal lambda is 2.74\n"
     ]
    }
   ],
   "source": [
    "lcv = LassoCV()\n",
    "lcv.fit(X,y)\n",
    "lmbda = lcv.alpha_\n",
    "print('Optimal lambda is %.2f' % lmbda)"
   ]
  },
  {
   "cell_type": "markdown",
   "metadata": {},
   "source": [
    "Training:"
   ]
  },
  {
   "cell_type": "code",
   "execution_count": 194,
   "metadata": {},
   "outputs": [],
   "source": [
    "B_init = np.zeros(X.shape[1])\n",
    "Bs_cyclic = cycliccoorddescent(B_init, lmbda, X, y)\n",
    "Bs_random = randcoorddescent(B_init, lmbda, X, y)"
   ]
  },
  {
   "cell_type": "markdown",
   "metadata": {},
   "source": [
    "Plotting:"
   ]
  },
  {
   "cell_type": "code",
   "execution_count": 198,
   "metadata": {},
   "outputs": [
    {
     "data": {
      "image/png": "[encoded data removed]",
      "text/plain": [
       "<Figure size 432x288 with 1 Axes>"
      ]
     },
     "metadata": {
      "needs_background": "light"
     },
     "output_type": "display_data"
    }
   ],
   "source": [
    "def objective_plot(c, r):\n",
    "    d = c.shape[1]\n",
    "    t = np.arange(len(c)) / d\n",
    "    \n",
    "    c_objs = []\n",
    "    r_objs = []\n",
    "    \n",
    "    for B in c:\n",
    "        o = computeobj(B, lmbda, X, y)\n",
    "        c_objs.append(o)\n",
    "    \n",
    "    for B in r:\n",
    "        o = computeobj(B, lmbda, X, y)\n",
    "        r_objs.append(o)\n",
    "    \n",
    "    plt.plot(t, c_objs, label='cyclic')\n",
    "    plt.plot(t, r_objs, label='random')\n",
    "    plt.xlabel('iter')\n",
    "    plt.ylabel('objective')\n",
    "    plt.legend()\n",
    "    plt.show()\n",
    "    \n",
    "objective_plot(Bs_cyclic, Bs_random)   "
   ]
  },
  {
   "cell_type": "markdown",
   "metadata": {},
   "source": [
    "We notice entirely impractical results, largely due to large $\\beta$ values which increasingly grow the objective function values. However, random descent does not follow this pattern, and instead demonstrates negligble change in objective value. This is likely due to an unresolved issue in the partial_minimization computation, which itself relies on simple_minimization as coded above. \n",
    "\n",
    "Comparison with sklearn:"
   ]
  },
  {
   "cell_type": "code",
   "execution_count": 209,
   "metadata": {},
   "outputs": [
    {
     "data": {
      "image/png": "[encoded data removed]",
      "text/plain": [
       "<Figure size 432x288 with 1 Axes>"
      ]
     },
     "metadata": {
      "needs_background": "light"
     },
     "output_type": "display_data"
    },
    {
     "data": {
      "image/png": "[encoded data removed]",
      "text/plain": [
       "<Figure size 432x288 with 1 Axes>"
      ]
     },
     "metadata": {
      "needs_background": "light"
     },
     "output_type": "display_data"
    }
   ],
   "source": [
    "def comparison_plot(c, r, correct=False):\n",
    "    B_star = lcv.coef_\n",
    "    \n",
    "    t = []\n",
    "    c_correct = []\n",
    "    r_correct = []\n",
    "    \n",
    "    for i in range(len(B_star)):\n",
    "        Bc = c[i]\n",
    "        Br = r[i]\n",
    "        \n",
    "        c_idxs = np.where(Bc != 0)\n",
    "        r_idxs = np.where(Br != 0)\n",
    "        \n",
    "        Bc = Bc[c_idxs]\n",
    "        Br = Br[r_idxs]\n",
    "        \n",
    "        c_correct.append(np.mean(B_star[c_idxs] == Bc))\n",
    "        r_correct.append(np.mean(B_star[r_idxs] == Br))\n",
    "        t.append(i/len(B_star))\n",
    "    \n",
    "    if not correct:\n",
    "        c_correct = [1-x for x in c_correct]\n",
    "        r_correct = [1-x for x in r_correct]\n",
    "        \n",
    "    title = 'Fraction Correct (Non-0) Coefficients' if correct else 'Fraction Incorrect (Non-0) Coefficients'\n",
    "    \n",
    "    plt.plot(t, c_correct, label='cyclic')\n",
    "    plt.plot(t, r_correct, label='random')\n",
    "    plt.xlabel('iter')\n",
    "    plt.ylabel('fraction')\n",
    "    plt.legend()\n",
    "    plt.title(title)\n",
    "    plt.show()\n",
    "\n",
    "comparison_plot(Bs_cyclic, Bs_random, correct=True)\n",
    "comparison_plot(Bs_cyclic, Bs_random)"
   ]
  },
  {
   "cell_type": "markdown",
   "metadata": {},
   "source": [
    "A programming isse again prevents us from seeing the plotted fraction of correct (or incorrect) non-zero coefficient counts, when our algorithms are compared to $\\beta_\\star$ from sklearn.\n",
    "\n",
    "Hopefully, we would see the fraction in the 'correct' plot rise for both algorithms, and fall in the 'incorrect' plot, since after every 'pass' (t/d passes) the weights vector should be closer to the reliable sklearn result. It is hypothesized that the cyclic descent may align with sklearn faster, because all $\\beta_j$ are updated uniformly, wheras there may be many redundant updates in random descent that do not improve the performance.\n",
    "\n",
    "Note also that an assumption was made, in that at every state, non-zero coefficients referred to non-zero values in our two algorithm's $\\beta$, since via coordinate descent many iterations may see mostly 0 values in our weights vector. "
   ]
  }
 ],
 "metadata": {
  "kernelspec": {
   "display_name": "Python 3",
   "language": "python",
   "name": "python3"
  },
  "language_info": {
   "codemirror_mode": {
    "name": "ipython",
    "version": 3
   },
   "file_extension": ".py",
   "mimetype": "text/x-python",
   "name": "python",
   "nbconvert_exporter": "python",
   "pygments_lexer": "ipython3",
   "version": "3.7.6"
  }
 },
 "nbformat": 4,
 "nbformat_minor": 4
}
