{
 "cells": [
  {
   "cell_type": "markdown",
   "metadata": {},
   "source": [
    "__*Data Competition-Related Exercise*__\n",
    "\n",
    "a) Downloading data."
   ]
  },
  {
   "cell_type": "code",
   "execution_count": 42,
   "metadata": {},
   "outputs": [],
   "source": [
    "import numpy as np\n",
    "import pandas as pd\n",
    "import json\n",
    "import matplotlib.pyplot as plt\n",
    "import scipy.linalg\n",
    "from sklearn.linear_model import LogisticRegressionCV\n",
    "from sklearn.preprocessing import StandardScaler"
   ]
  },
  {
   "cell_type": "code",
   "execution_count": 3,
   "metadata": {},
   "outputs": [],
   "source": [
    "# load data \n",
    "X_train = np.load('train_features.npy')\n",
    "X_val = np.load('test_features.npy')\n",
    "X_test = np.load('val_features.npy')\n",
    "\n",
    "y_train = np.load('train_labels.npy')\n",
    "y_val = np.load('val_labels.npy')\n",
    "\n",
    "# standardize data \n",
    "scaler = StandardScaler()\n",
    "X_train = scaler.fit_transform(X_train)\n",
    "X_val = scaler.transform(X_val)\n",
    "X_test = scaler.transform(X_test)"
   ]
  },
  {
   "cell_type": "markdown",
   "metadata": {},
   "source": [
    "b) Selecting two classes (those with indexes 0,1), whose respective labels are printed."
   ]
  },
  {
   "cell_type": "code",
   "execution_count": 4,
   "metadata": {},
   "outputs": [],
   "source": [
    "# pick classes \n",
    "FILTERED_CLASSES = {0: 'n01820546', 1: 'n01824575'}\n",
    "\n",
    "# filter data\n",
    "train_idxs = np.where(np.in1d(y_train, [0,1]))\n",
    "y_train = y_train[train_idxs]\n",
    "X_train = X_train[train_idxs]\n",
    "\n",
    "val_idxs = np.where(np.in1d(y_val, [0,1]))\n",
    "y_val = y_val[val_idxs]\n",
    "X_val = X_val[val_idxs]"
   ]
  },
  {
   "cell_type": "markdown",
   "metadata": {},
   "source": [
    "We next find the optimal $\\lambda$ using `LogisticRegressionCV` from `sklearn`, with a 5-fold setting. Note that we are using the objective function defined in class, which is not identical to the objective function in `sklearn`. \n",
    "\n",
    "We find that the value $C$ returned by `sklearn` is equivalent to $\\frac{1}{2n\\lambda}$ in our derivation, so the necessary transformation is applied, and the $\\lambda$ value is printed."
   ]
  },
  {
   "cell_type": "code",
   "execution_count": 5,
   "metadata": {},
   "outputs": [],
   "source": [
    "# using sklearn CV \n",
    "clf = LogisticRegressionCV(cv=5, fit_intercept=False).fit(X_train, y_train)"
   ]
  },
  {
   "cell_type": "code",
   "execution_count": 6,
   "metadata": {},
   "outputs": [
    {
     "name": "stdout",
     "output_type": "stream",
     "text": [
      "Optimal lambda, after 5-fold CV via skearn: 0.0108\n"
     ]
    }
   ],
   "source": [
    "# finding lambda\n",
    "optimal_lmbda = 1/(2*clf.C_[0]*len(y_train)) \n",
    "print('Optimal lambda, after 5-fold CV via skearn: %.4f' % optimal_lmbda)"
   ]
  },
  {
   "cell_type": "markdown",
   "metadata": {},
   "source": [
    "c) We define the necessary functions (pulled from previous homework submissions) and perform training with our fast gradient algorithm. Misclassification error is provided (reasonably low for the training set, high for the validation set)."
   ]
  },
  {
   "cell_type": "code",
   "execution_count": 7,
   "metadata": {},
   "outputs": [],
   "source": [
    "def obj(B, lmbda, X=X_train, y=y_train):\n",
    "    risk = (1/len(y)) * np.sum(np.log(1 + np.exp(-y*np.dot(X,B))))\n",
    "    penalty = lmbda * np.linalg.norm(B)**2\n",
    "    return risk + penalty"
   ]
  },
  {
   "cell_type": "code",
   "execution_count": 8,
   "metadata": {},
   "outputs": [],
   "source": [
    "def grad(B, lmbda, X=X_train, y=y_train):\n",
    "    yx = y[:, np.newaxis]*X\n",
    "    B_shaped = B[:, np.newaxis]\n",
    "    denom = (1+np.exp(np.dot(-yx,B)))[:, np.newaxis]\n",
    "    \n",
    "    # combined formula \n",
    "    risk = (1/len(y)) * np.sum(-yx*np.exp(np.dot(-yx, B_shaped)) / denom, axis=0)\n",
    "    penalty = 2*lmbda*B\n",
    "    return risk + penalty "
   ]
  },
  {
   "cell_type": "code",
   "execution_count": 9,
   "metadata": {},
   "outputs": [],
   "source": [
    "def backtracking(B, lmbda, eta=1, alpha=0.5, gamma=0.8, max_iter=100, X=X_train, y=y_train):\n",
    "    grad_B = grad(B, lmbda, X=X, y=y)\n",
    "    norm_grad_B = np.linalg.norm(grad_B)\n",
    "    finished_bt = False\n",
    "    t = 0\n",
    "    \n",
    "    while (not finished_bt) and t < max_iter:\n",
    "        if obj(B-eta*grad_B, lmbda, X=X, y=y) < obj(B, lmbda, X=X, y=y)-alpha*eta*norm_grad_B**2:\n",
    "            finished_bt = True\n",
    "        elif t == max_iter:\n",
    "            raise \"Exceeding 100 iterations in backtracking line search.\"\n",
    "        else:\n",
    "            eta *= gamma\n",
    "            t += 1 \n",
    "    \n",
    "    return eta "
   ]
  },
  {
   "cell_type": "code",
   "execution_count": 10,
   "metadata": {},
   "outputs": [],
   "source": [
    "def fastgradient(B_init, Th_init, lmbda, eta, X=X_train, y=y_train, epsilon=5e-3):\n",
    "    B = B_init\n",
    "    Th = Th_init\n",
    "    grad_B = grad(B, lmbda, X=X, y=y)\n",
    "    grad_Th = grad(Th, lmbda, X=X, y=y)\n",
    "    \n",
    "    Bs = B\n",
    "    t = 0\n",
    "    \n",
    "    while np.linalg.norm(grad_B) > epsilon:\n",
    "        eta = backtracking(Th, lmbda, eta=eta, X=X, y=y)\n",
    "        B_next = Th - eta*grad_Th\n",
    "        Th = B_next + (t/(t+3))*(B_next-B)\n",
    "        \n",
    "        Bs = np.vstack((Bs, B))\n",
    "        grad_Th = grad(Th, lmbda, X=X, y=y)\n",
    "        grad_B = grad(B, lmbda, X=X, y=y)\n",
    "        B = B_next\n",
    "        t += 1\n",
    "            \n",
    "    return Bs  "
   ]
  },
  {
   "cell_type": "code",
   "execution_count": 11,
   "metadata": {},
   "outputs": [],
   "source": [
    "# training \n",
    "d = X_train.shape[1]\n",
    "B_init = np.zeros(d)\n",
    "Th_init = np.zeros(d)\n",
    "\n",
    "e = scipy.linalg.eigh(1/len(y_train)*np.dot(X_train.T, X_train), eigvals=(d-1,d-1), eigvals_only=True)\n",
    "e = e[0] + optimal_lmbda \n",
    "eta_init = 1/e\n",
    "\n",
    "B = fastgradient(B_init, Th_init, optimal_lmbda, eta_init)[-1]"
   ]
  },
  {
   "cell_type": "code",
   "execution_count": 52,
   "metadata": {},
   "outputs": [
    {
     "name": "stdout",
     "output_type": "stream",
     "text": [
      "Post-training misclassification error, training set: 21.80%.\n",
      "Post-training misclassification error, validation set: 50.50%.\n"
     ]
    }
   ],
   "source": [
    "def misclassification(B, X, y):\n",
    "    y_pred = 1/(1+np.exp(-X.dot(B))) > 0.5\n",
    "    y_pred = 1*y_pred\n",
    "    return np.mean(y_pred != y)\n",
    "\n",
    "trn_err = misclassification(B, X_train, y_train)*100\n",
    "val_err = misclassification(B, X_val, y_val)*100 \n",
    "\n",
    "print('Post-training misclassification error, training set: %.2f%%.' % trn_err)\n",
    "print('Post-training misclassification error, validation set: %.2f%%.' % val_err)"
   ]
  },
  {
   "cell_type": "markdown",
   "metadata": {},
   "source": [
    "d) All code was run on AWS. Please see provided screenshots. Since a notebook (and not a script) was used, its results are used in place of output screenshots.\n",
    "\n",
    "e) We plot misclassification error vs. $\\lambda$ for the testing and training sets. Some notes:\n",
    "    - Only 3 submissions are possible each day, so a limited sampling of $\\lambda$ is available.\n",
    "    - There is no real prediction step for classes not amongst the two that were picked here.\n",
    "    - 80% of the data will hence invariably be misclassified, meaning the TEST error should be at least 80%\n",
    "    - The training set included only the two classes, and do not have this issue. \n",
    "    \n",
    "Now, we see some expected results. In our training data, our error is relatively low for any value of $\\lambda$, but increases slightly (by the order of $10^{-3}$) as $\\lambda$ grows, meaning our model seeks to overfit to the training set, and suffers from a regularization penalty. By this reasoning alone, $\\lambda=0.01$ would be our optimal term, but this is unlikely.\n",
    "\n",
    "In the test set, however, the error shrinks by a similarly small margin as $\\lambda$ grows, although the error in general appears much higher as previously stated. This suggests that the regularization term is helping the model generalize to test data, and penalizes overfitting. By this reasoning, $\\lambda=1$ is our optimal term. \n",
    "\n",
    "Still, it is concerning that our accuracy score for test data peaks at around 8.3%, when its maximum potential value could be around 20%. Likely, tweaks to the descent algorithm, the objective function, and hyperparameters can improve this result. "
   ]
  },
  {
   "cell_type": "code",
   "execution_count": 60,
   "metadata": {},
   "outputs": [],
   "source": [
    "# training on different lambdas \n",
    "lambdas = np.logspace(-2,0,3)\n",
    "train_errs = [] \n",
    "test_preds = []\n",
    "\n",
    "for lmbda in lambdas:\n",
    "    B = fastgradient(B_init, Th_init, lmbda, eta_init)[-1]\n",
    "    err = misclassification(B, X_train, y_train)\n",
    "    train_errs.append(err)\n",
    "    \n",
    "    test_pred = 1/(1+np.exp(-X_test.dot(B))) > 0.5\n",
    "    test_pred = 1*test_pred \n",
    "    test_preds.append(test_pred)"
   ]
  },
  {
   "cell_type": "code",
   "execution_count": 74,
   "metadata": {},
   "outputs": [],
   "source": [
    "# getting test errors and plotting\n",
    "for i in range(len(lambdas)):\n",
    "    s = None \n",
    "    if lambdas[i] == 0.01:\n",
    "        s = '_0_01'\n",
    "    elif lambdas[i] == 0.1:\n",
    "        s = '_0_1'\n",
    "    else:\n",
    "        s = '_1'\n",
    "    \n",
    "    pd.DataFrame(test_preds[i]).to_csv('predictions%s.csv' % s)"
   ]
  },
  {
   "cell_type": "code",
   "execution_count": 86,
   "metadata": {},
   "outputs": [
    {
     "data": {
      "image/png": "[encoded data removed]",
      "text/plain": [
       "<Figure size 432x288 with 1 Axes>"
      ]
     },
     "metadata": {
      "needs_background": "light"
     },
     "output_type": "display_data"
    }
   ],
   "source": [
    "# from Kaggle submissions \n",
    "test_errs = [1-0.07333, 1-0.08000, 1-0.08333]\n",
    "\n",
    "plt.plot(lambdas, test_errs, label='Test Error', marker='o')\n",
    "plt.plot(lambdas, train_errs, label='Train Error', marker='o')\n",
    "plt.ylabel('Error')\n",
    "plt.xlabel('Regularization Penalty Term')\n",
    "plt.legend()\n",
    "plt.show()"
   ]
  },
  {
   "cell_type": "markdown",
   "metadata": {},
   "source": [
    "f) Best $\\lambda$ by testing data was 1, this code was also run on AWS (the submission for this run can be seen on Kaggle). "
   ]
  }
 ],
 "metadata": {
  "kernelspec": {
   "display_name": "Python 3",
   "language": "python",
   "name": "python3"
  },
  "language_info": {
   "codemirror_mode": {
    "name": "ipython",
    "version": 3
   },
   "file_extension": ".py",
   "mimetype": "text/x-python",
   "name": "python",
   "nbconvert_exporter": "python",
   "pygments_lexer": "ipython3",
   "version": "3.7.6"
  }
 },
 "nbformat": 4,
 "nbformat_minor": 4
}
