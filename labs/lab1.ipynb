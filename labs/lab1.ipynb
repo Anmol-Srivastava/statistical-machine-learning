{
 "cells": [
  {
   "cell_type": "code",
   "execution_count": null,
   "metadata": {
    "colab_type": "text",
    "id": "9u5EleWn9eM8"
   },
   "outputs": [],
   "source": [
    "# <center> Introduction to Python and Scikit-learn</center>\n",
    "<center> Corinne Jones, TA </center>\n",
    "<center> DATA 558, Spring 2020 </center>"
   ]
  },
  {
   "cell_type": "markdown",
   "metadata": {
    "colab_type": "text",
    "id": "5wj7hBwi9eM-"
   },
   "source": [
    "# 1 Introduction\n",
    "In this lab you will learn the following:\n",
    "- How to install Python and Python packages\n",
    "- How to perform basic operations in Python\n",
    "- How to load packages and use common functions from NumPy\n",
    "- How to read in and manipulate datasets with Pandas\n",
    "- How to split a dataset into training and testing sets with scikit-learn\n",
    "- How to fit nearest neighbors models in scikit-learn and use them to make predictions\n",
    "\n",
    "Some parts of this lab are adapted from https://github.com/amueller/introduction_to_ml_with_python and the corresponding book."
   ]
  },
  {
   "cell_type": "markdown",
   "metadata": {
    "colab_type": "text",
    "id": "hjCgchKy9eM_"
   },
   "source": [
    "## 1.1 Installing Python \n",
    "There are many ways to install Python, including:\n",
    "- With Anaconda: https://www.anaconda.com/distribution/\n",
    "- Directly from the Python website: https://www.python.org/downloads/\n",
    "\n",
    "It tends to be easier to use Anaconda. We will be using Python 3.x. For these labs I will be using Python 3.7. Python 2.x used to be quite popular but reached its end of life at the beginning of this year."
   ]
  },
  {
   "cell_type": "markdown",
   "metadata": {
    "colab_type": "text",
    "id": "YbqclcFy9eNB"
   },
   "source": [
    "## 1.2 Installing Packages\n",
    "Like in R and many other languages, you will often need to use functions not built into Python. In this tutorial we will be using numpy, scikit-learn, matplotlib, and pandas. If you are using Anaconda, they may be already installed. If not, you can install them at the command line via\n",
    "~~~\n",
    "conda install numpy scikit-learn matplotlib pandas\n",
    "~~~\n",
    "On the other hand, if you are using pip to install packages, you can do so via\n",
    "~~~\n",
    "pip install numpy scikit-learn matplotlib pandas\n",
    "~~~\n",
    "On Windows, if you don't use Anaconda you may encounter problems installing packages. In that case, there are a bunch of packages you can install from here: http://www.lfd.uci.edu/~gohlke/pythonlibs/  This website contains Windows binaries for many packages. These files have strings like cp27 and cp36 in their names. These correspond to the Python versions. Make sure you also correctly download either the 32- or 64-bit version, depending on whether you have 32- or 64-bit Python."
   ]
  },
  {
   "cell_type": "code",
   "execution_count": 19,
   "metadata": {
    "colab": {
     "base_uri": "https://localhost:8080/",
     "height": 33
    },
    "colab_type": "code",
    "id": "eZqps9gXBTkK",
    "outputId": "5344a158-c7da-4841-f89e-68d908a685ee"
   },
   "outputs": [
    {
     "name": "stdout",
     "output_type": "stream",
     "text": [
      "Requirement already satisfied: numpy in /usr/local/lib/python3.6/dist-packages (1.18.2)\n"
     ]
    }
   ],
   "source": [
    "!pip3 install numpy"
   ]
  },
  {
   "cell_type": "markdown",
   "metadata": {
    "colab_type": "text",
    "id": "Uk40E1RQ9eND"
   },
   "source": [
    "## 1.3 Choosing a development environment\n",
    "Like RStudio for R, there are integrated development environments (IDEs) for Python. These make life a lot easier! For the labs we will be using Jupyter notebooks. If you are using Anaconda, run\n",
    "~~~\n",
    "conda install jupyter nb_conda\n",
    "~~~\n",
    "in the command line. Otherwise, try running\n",
    "~~~\n",
    "pip3 install jupyter\n",
    "~~~\n",
    "To start a Jupyter notebook, go to the command line and type \n",
    "~~~\n",
    "jupyter notebook\n",
    "~~~\n",
    "\n",
    "While Jupyter notebooks are great for class, they're not as convenient when writing large quantities of code. This Stack Overflow page has a nice comparison of many IDEs, so you can choose based on your preferences: http://stackoverflow.com/questions/81584/what-ide-to-use-for-python\n",
    "PyCharm, Eclipse with PyDev, Komodo, Emacs, and Spyder seem to be some of the more popular ones.\n",
    "Features of good IDEs include automatic code completion, an integrated debugger, error markup, version control integration (http://git-scm.com/)..."
   ]
  },
  {
   "cell_type": "markdown",
   "metadata": {
    "colab_type": "text",
    "id": "Use40D3C9eNE"
   },
   "source": [
    "# 2 Basic operations and data types"
   ]
  },
  {
   "cell_type": "markdown",
   "metadata": {
    "colab_type": "text",
    "id": "taKR1IHB9eNF"
   },
   "source": [
    "As you'll see in this section, most of the operations in Python are similar to those in other languages like R and MATLAB. "
   ]
  },
  {
   "cell_type": "markdown",
   "metadata": {
    "colab_type": "text",
    "id": "_DgQjX1s9eNG"
   },
   "source": [
    "## 2.1 Arithmetic operations, lists, and dictionaries\n",
    "Some of the most important things you need to know are:\n",
    "- Python uses zero-based indexing.\n",
    "- Indentations matter.\n",
    "- The exponentiation operator is `**`, not `^`.\n",
    "\n",
    "We will see these below."
   ]
  },
  {
   "cell_type": "code",
   "execution_count": 0,
   "metadata": {
    "colab": {},
    "colab_type": "code",
    "id": "WscpywWl9eNH"
   },
   "outputs": [],
   "source": [
    "# Don't worry about these two lines. They just tell the notebook to display all of the results.\n",
    "from IPython.core.interactiveshell import InteractiveShell\n",
    "InteractiveShell.ast_node_interactivity = \"all\""
   ]
  },
  {
   "cell_type": "code",
   "execution_count": 0,
   "metadata": {
    "colab": {},
    "colab_type": "code",
    "id": "PYW8naVcEutr"
   },
   "outputs": [],
   "source": [
    "%config IPCompleter.greedy=True "
   ]
  },
  {
   "cell_type": "code",
   "execution_count": 2,
   "metadata": {
    "colab": {
     "base_uri": "https://localhost:8080/",
     "height": 33
    },
    "colab_type": "code",
    "id": "uMZrFz8M9eNP",
    "outputId": "2c2a15aa-7861-4488-a271-1a9a737ead68"
   },
   "outputs": [
    {
     "data": {
      "text/plain": [
       "0.021925"
      ]
     },
     "execution_count": 2,
     "metadata": {
      "tags": []
     },
     "output_type": "execute_result"
    }
   ],
   "source": [
    "# Text after a pound sign is a comment.\n",
    "(2 / 8) ** 3 + 2.1 * .003  # Two asterisks denote \"to the power of\". Not ^ like in R."
   ]
  },
  {
   "cell_type": "code",
   "execution_count": 3,
   "metadata": {
    "colab": {
     "base_uri": "https://localhost:8080/",
     "height": 33
    },
    "colab_type": "code",
    "id": "1LIFGqsp9eNW",
    "outputId": "9cf6c6d7-445d-457f-f995-ac63c2b6725a"
   },
   "outputs": [
    {
     "data": {
      "text/plain": [
       "0.25"
      ]
     },
     "execution_count": 3,
     "metadata": {
      "tags": []
     },
     "output_type": "execute_result"
    }
   ],
   "source": [
    "2/8  # Unlike in Python 2, Python 3 doesn't perform integer division. If you don't know what this is, don't \n",
    "     # worry about it."
   ]
  },
  {
   "cell_type": "code",
   "execution_count": 4,
   "metadata": {
    "colab": {
     "base_uri": "https://localhost:8080/",
     "height": 33
    },
    "colab_type": "code",
    "id": "Ohkj3pLR9eNc",
    "outputId": "eb70ab2b-0a8b-4d56-ad6d-257cd59cd846"
   },
   "outputs": [
    {
     "data": {
      "text/plain": [
       "4"
      ]
     },
     "execution_count": 4,
     "metadata": {
      "tags": []
     },
     "output_type": "execute_result"
    }
   ],
   "source": [
    "x = 3  # This sets the variable x to the number 3.\n",
    "x_new = x+1  # Names can't have periods in them, unlike in R.\n",
    "x_new "
   ]
  },
  {
   "cell_type": "code",
   "execution_count": 5,
   "metadata": {
    "colab": {
     "base_uri": "https://localhost:8080/",
     "height": 33
    },
    "colab_type": "code",
    "id": "QFDiPikM9eNj",
    "outputId": "a115a033-fe5f-4c4a-8808-c05f1dbfab49"
   },
   "outputs": [
    {
     "data": {
      "text/plain": [
       "[10, 20, 30]"
      ]
     },
     "execution_count": 5,
     "metadata": {
      "tags": []
     },
     "output_type": "execute_result"
    },
    {
     "data": {
      "text/plain": [
       "10"
      ]
     },
     "execution_count": 5,
     "metadata": {
      "tags": []
     },
     "output_type": "execute_result"
    }
   ],
   "source": [
    "y = [10, 20, 30]  # Create a list.\n",
    "y\n",
    "y[0]  # Python uses zero-based indexing!"
   ]
  },
  {
   "cell_type": "code",
   "execution_count": 0,
   "metadata": {
    "colab": {},
    "colab_type": "code",
    "id": "WeQIh9AR_lJu"
   },
   "outputs": [],
   "source": [
    "y = ['hi', 3]"
   ]
  },
  {
   "cell_type": "code",
   "execution_count": 0,
   "metadata": {
    "colab": {},
    "colab_type": "code",
    "id": "JUac8i1d_mZo"
   },
   "outputs": [],
   "source": []
  },
  {
   "cell_type": "code",
   "execution_count": 7,
   "metadata": {
    "colab": {
     "base_uri": "https://localhost:8080/",
     "height": 33
    },
    "colab_type": "code",
    "id": "rzmoGMKN9eNv",
    "outputId": "8c38a119-839e-4d6b-ec7b-33e1bfa9dc24"
   },
   "outputs": [
    {
     "data": {
      "text/plain": [
       "[4, 5, 6, 'hi', 3]"
      ]
     },
     "execution_count": 7,
     "metadata": {
      "tags": []
     },
     "output_type": "execute_result"
    }
   ],
   "source": [
    "x2 = [4, 5, 6]\n",
    "x2+y  # Adding two lists concatenates them. There is a separate array type we will introduce in a minute."
   ]
  },
  {
   "cell_type": "code",
   "execution_count": 8,
   "metadata": {
    "colab": {
     "base_uri": "https://localhost:8080/",
     "height": 33
    },
    "colab_type": "code",
    "id": "FV0hCY7f9eN1",
    "outputId": "657b08bb-528f-46e0-e4cb-6e17133637f1"
   },
   "outputs": [
    {
     "data": {
      "text/plain": [
       "5"
      ]
     },
     "execution_count": 8,
     "metadata": {
      "tags": []
     },
     "output_type": "execute_result"
    }
   ],
   "source": [
    "x2[-2]  # Using a minus sign before a number gives the element that is that far from the end, unlike in R"
   ]
  },
  {
   "cell_type": "code",
   "execution_count": 9,
   "metadata": {
    "colab": {
     "base_uri": "https://localhost:8080/",
     "height": 33
    },
    "colab_type": "code",
    "id": "bajJy5yG9eN6",
    "outputId": "0fac976d-b7d7-4ac7-8df2-fa3d10b4395e"
   },
   "outputs": [
    {
     "data": {
      "text/plain": [
       "[4, 5, 6, 'hi']"
      ]
     },
     "execution_count": 9,
     "metadata": {
      "tags": []
     },
     "output_type": "execute_result"
    }
   ],
   "source": [
    "x2.append('hi')  # Lists can have different data types in them\n",
    "x2"
   ]
  },
  {
   "cell_type": "code",
   "execution_count": 10,
   "metadata": {
    "colab": {
     "base_uri": "https://localhost:8080/",
     "height": 33
    },
    "colab_type": "code",
    "id": "rhVOOupK9eN_",
    "outputId": "302f8ac5-9152-41f3-8b6e-6af2b13c0526"
   },
   "outputs": [
    {
     "data": {
      "text/plain": [
       "[1, 2, 3]"
      ]
     },
     "execution_count": 10,
     "metadata": {
      "tags": []
     },
     "output_type": "execute_result"
    }
   ],
   "source": [
    "my_dict = {'a': 10, 'b': 'hi', 'c': [1,2,3]}  # Create a \"dictionary\"\n",
    "my_dict['c']  # Access the \"value\" corresponding to the \"key\" 'c' in the dictionary I created "
   ]
  },
  {
   "cell_type": "code",
   "execution_count": 11,
   "metadata": {
    "colab": {
     "base_uri": "https://localhost:8080/",
     "height": 33
    },
    "colab_type": "code",
    "id": "-AezdV23AC-D",
    "outputId": "21618a97-5999-455a-e606-dfc4f8df0adc"
   },
   "outputs": [
    {
     "data": {
      "text/plain": [
       "[10, 'hi', [1, 2, 3]]"
      ]
     },
     "execution_count": 11,
     "metadata": {
      "tags": []
     },
     "output_type": "execute_result"
    }
   ],
   "source": [
    "list(my_dict.values())"
   ]
  },
  {
   "cell_type": "code",
   "execution_count": 12,
   "metadata": {
    "colab": {
     "base_uri": "https://localhost:8080/",
     "height": 33
    },
    "colab_type": "code",
    "id": "fY6ygf5XAGZw",
    "outputId": "50e2f818-ca21-4f7d-aa59-1437c039d15f"
   },
   "outputs": [
    {
     "data": {
      "text/plain": [
       "['a', 'b', 'c']"
      ]
     },
     "execution_count": 12,
     "metadata": {
      "tags": []
     },
     "output_type": "execute_result"
    }
   ],
   "source": [
    "list(my_dict.keys())"
   ]
  },
  {
   "cell_type": "code",
   "execution_count": 13,
   "metadata": {
    "colab": {
     "base_uri": "https://localhost:8080/",
     "height": 33
    },
    "colab_type": "code",
    "id": "s1TbdUwC9eOG",
    "outputId": "5be71110-69c9-4896-84f2-558adf9b8215"
   },
   "outputs": [
    {
     "data": {
      "text/plain": [
       "range(0, 10, 2)"
      ]
     },
     "execution_count": 13,
     "metadata": {
      "tags": []
     },
     "output_type": "execute_result"
    },
    {
     "data": {
      "text/plain": [
       "[0, 2, 4, 6, 8]"
      ]
     },
     "execution_count": 13,
     "metadata": {
      "tags": []
     },
     "output_type": "execute_result"
    }
   ],
   "source": [
    "range(0, 10, 2)  # Range creates a sequence of integers starting at the first entry and ending BEFORE the \n",
    "                 # second entry. The third entry is the step size. The range() function is really useful when\n",
    "                 # creating for loops.\n",
    "list(range(0, 10, 2))  # Convert to a list for printing purposes"
   ]
  },
  {
   "cell_type": "markdown",
   "metadata": {
    "colab_type": "text",
    "id": "wCbnYSN-9eOM"
   },
   "source": [
    "Next we'll introduce `for` loops, `while` loops, and functions. At this point it's important to know that in Python it is necessary to follow indentation rules."
   ]
  },
  {
   "cell_type": "code",
   "execution_count": 14,
   "metadata": {
    "colab": {
     "base_uri": "https://localhost:8080/",
     "height": 133
    },
    "colab_type": "code",
    "id": "QcjijfFt9eON",
    "outputId": "c6084c47-2df0-4c75-f6e4-ec533a79c935"
   },
   "outputs": [
    {
     "name": "stdout",
     "output_type": "stream",
     "text": [
      "2\n",
      "1\n",
      "0\n",
      "1\n",
      "2\n",
      "3\n",
      "4\n"
     ]
    }
   ],
   "source": [
    "for i in range(-2, 5):  # Note (1) there are no parentheses required around the interior of the for statement; \n",
    "    print(abs(i))       # and (2) there is a colon at the end."
   ]
  },
  {
   "cell_type": "code",
   "execution_count": 15,
   "metadata": {
    "colab": {
     "base_uri": "https://localhost:8080/",
     "height": 50
    },
    "colab_type": "code",
    "id": "7SAdVkFy9eOT",
    "outputId": "eaf41ada-c2cf-428b-cfb6-dcedae876d15"
   },
   "outputs": [
    {
     "name": "stdout",
     "output_type": "stream",
     "text": [
      "1 3\n",
      "2 4\n"
     ]
    }
   ],
   "source": [
    "i = 0\n",
    "j = 2\n",
    "while i < 5 and not j >= 4:  # To check multiple conditions, use \"and\", \"or\", and/or \"not\"\n",
    "    i += 1  # This is short for i = i+1\n",
    "    j = j+1\n",
    "    print(i, j)"
   ]
  },
  {
   "cell_type": "code",
   "execution_count": 18,
   "metadata": {
    "colab": {
     "base_uri": "https://localhost:8080/",
     "height": 50
    },
    "colab_type": "code",
    "id": "N5DynoTO9eOY",
    "outputId": "40b51751-185e-40b4-c0b0-88991429c3c7"
   },
   "outputs": [
    {
     "name": "stdout",
     "output_type": "stream",
     "text": [
      "Hello, world!Hello, world!Hello, world!\n"
     ]
    },
    {
     "data": {
      "text/plain": [
       "(9, 'Hello, world!Hello, world!')"
      ]
     },
     "execution_count": 18,
     "metadata": {
      "tags": []
     },
     "output_type": "execute_result"
    }
   ],
   "source": [
    "def hello_world(my_string, freq):  # Define the function called hello_world with input arguments my_string and freq\n",
    "    print(my_string*freq)  # String multiplication concatenates replicated strings\n",
    "    return 3*freq, 2*my_string\n",
    "    \n",
    "hello_world('Hello, world!', 3) # Call the function hello_world\n",
    "\n",
    "# 'hello'+'world'  # String addition concatenates strings"
   ]
  },
  {
   "cell_type": "markdown",
   "metadata": {
    "colab_type": "text",
    "id": "Qr-2-WJn9eOf"
   },
   "source": [
    "## 2.2 Importing packages\n",
    "You can import a package a number of different ways in Python:"
   ]
  },
  {
   "cell_type": "code",
   "execution_count": 20,
   "metadata": {
    "colab": {
     "base_uri": "https://localhost:8080/",
     "height": 33
    },
    "colab_type": "code",
    "id": "VikV6alc9eOg",
    "outputId": "847ba668-1840-4081-b1f7-0d7b9d595e5e"
   },
   "outputs": [
    {
     "data": {
      "text/plain": [
       "array([0., 0., 0.])"
      ]
     },
     "execution_count": 20,
     "metadata": {
      "tags": []
     },
     "output_type": "execute_result"
    }
   ],
   "source": [
    "import numpy  # Import NumPy. You will refer to it as numpy later.\n",
    "numpy.zeros(3)  # Create a numpy array with three zeros"
   ]
  },
  {
   "cell_type": "code",
   "execution_count": 21,
   "metadata": {
    "colab": {
     "base_uri": "https://localhost:8080/",
     "height": 33
    },
    "colab_type": "code",
    "id": "VdLitGC49eOm",
    "outputId": "368ec579-8652-474d-888d-79333ad60977"
   },
   "outputs": [
    {
     "data": {
      "text/plain": [
       "array([0., 0., 0.])"
      ]
     },
     "execution_count": 21,
     "metadata": {
      "tags": []
     },
     "output_type": "execute_result"
    }
   ],
   "source": [
    "import numpy as np  # Import numpy and refer to it as np later\n",
    "np.zeros(3)"
   ]
  },
  {
   "cell_type": "code",
   "execution_count": 22,
   "metadata": {
    "colab": {
     "base_uri": "https://localhost:8080/",
     "height": 33
    },
    "colab_type": "code",
    "id": "fqZT687K9eOr",
    "outputId": "d1f5f23e-a773-40ac-8632-6648c7a28e0f"
   },
   "outputs": [
    {
     "data": {
      "text/plain": [
       "array([0., 0., 0.])"
      ]
     },
     "execution_count": 22,
     "metadata": {
      "tags": []
     },
     "output_type": "execute_result"
    }
   ],
   "source": [
    "from numpy import *  # Import every function from numpy. You won't need to use the name numpy later \n",
    "                     # when referring to the functions\n",
    "zeros(3)"
   ]
  },
  {
   "cell_type": "code",
   "execution_count": 23,
   "metadata": {
    "colab": {
     "base_uri": "https://localhost:8080/",
     "height": 33
    },
    "colab_type": "code",
    "id": "7N_FWkND9eOw",
    "outputId": "1b7bd70e-9e4b-43b9-81fa-a64e4228f81e"
   },
   "outputs": [
    {
     "data": {
      "text/plain": [
       "array([0., 0., 0.])"
      ]
     },
     "execution_count": 23,
     "metadata": {
      "tags": []
     },
     "output_type": "execute_result"
    }
   ],
   "source": [
    "from numpy import zeros  # Import only the zeros function\n",
    "zeros(3)"
   ]
  },
  {
   "cell_type": "code",
   "execution_count": 24,
   "metadata": {
    "colab": {
     "base_uri": "https://localhost:8080/",
     "height": 33
    },
    "colab_type": "code",
    "id": "2xRkRo8e9eO3",
    "outputId": "a16a84bf-fb52-49b9-c20b-296ec675cc88"
   },
   "outputs": [
    {
     "data": {
      "text/plain": [
       "array([0.00290598, 0.44595385, 0.41955191])"
      ]
     },
     "execution_count": 24,
     "metadata": {
      "tags": []
     },
     "output_type": "execute_result"
    }
   ],
   "source": [
    "from numpy import random  # Import the module \"random\" that exists within the package \"numpy\"\n",
    "random.rand(3)  # Generate three random numbers from Unif(0, 1)"
   ]
  },
  {
   "cell_type": "code",
   "execution_count": 25,
   "metadata": {
    "colab": {
     "base_uri": "https://localhost:8080/",
     "height": 33
    },
    "colab_type": "code",
    "id": "u-gdLTL79eO6",
    "outputId": "339c53d2-dc40-4b62-8458-d194740cb7a2"
   },
   "outputs": [
    {
     "data": {
      "text/plain": [
       "array([0.89642771, 0.46908564, 0.72199222])"
      ]
     },
     "execution_count": 25,
     "metadata": {
      "tags": []
     },
     "output_type": "execute_result"
    }
   ],
   "source": [
    "import numpy.random\n",
    "numpy.random.rand(3)"
   ]
  },
  {
   "cell_type": "markdown",
   "metadata": {
    "colab_type": "text",
    "id": "7dy9Bbht9eO-"
   },
   "source": [
    "I do not recommend frequently using the third and fourth methods. With these methods it's not easy to tell from looking at the code where the functions you call come from. Moreover, there could be name clashes between packages. "
   ]
  },
  {
   "cell_type": "markdown",
   "metadata": {
    "colab_type": "text",
    "id": "CjbTw2Ku9eO-"
   },
   "source": [
    "## 2.3 NumPy"
   ]
  },
  {
   "cell_type": "markdown",
   "metadata": {
    "colab_type": "text",
    "id": "7FEugAxA9eO_"
   },
   "source": [
    "The NumPy package allows you to create arrays, generate random numbers, and perform quite a few arithmetic operations."
   ]
  },
  {
   "cell_type": "code",
   "execution_count": 26,
   "metadata": {
    "colab": {
     "base_uri": "https://localhost:8080/",
     "height": 83
    },
    "colab_type": "code",
    "id": "TvbIonDM9ePA",
    "outputId": "dc8e27ab-cbfe-4a38-c73c-3eb5251ccaf5"
   },
   "outputs": [
    {
     "name": "stdout",
     "output_type": "stream",
     "text": [
      "x:\n",
      "[[1 2 3]\n",
      " [4 5 6]]\n",
      "x[1,2] = 6\n"
     ]
    }
   ],
   "source": [
    "import numpy as np\n",
    "x = np.array([[1, 2, 3], [4, 5, 6]])  # Create a 2-dimensional array\n",
    "print(\"x:\\n{}\".format(x))  # Print it to the screen. \\n says to go to the next line\n",
    "                           # {} and .format() are used to print objects to the screen\n",
    "                           # in Python 3.\n",
    "print(\"x[1,2] =\", x[1,2])   # Alternative way of printing to the screen. Is this the entry of x you expected?"
   ]
  },
  {
   "cell_type": "markdown",
   "metadata": {
    "colab_type": "text",
    "id": "WmiizLb99ePE"
   },
   "source": [
    "To generate random numbers from a normal distribution we can use the np.random.normal() function. The first argument is the location (mean), the second argument is the scale (standard deviation), and the third argument tells it how many random numbers we want and in what format. size=(2,3) says that we want a 2x3 array as the output. You can also generate random numbers from many other distributions (see the documentation)."
   ]
  },
  {
   "cell_type": "code",
   "execution_count": 29,
   "metadata": {
    "colab": {
     "base_uri": "https://localhost:8080/",
     "height": 133
    },
    "colab_type": "code",
    "id": "zFau-mSI9ePF",
    "outputId": "d71eba09-348d-4c26-df94-8d0589a456b8"
   },
   "outputs": [
    {
     "data": {
      "text/plain": [
       "array([[1, 2, 3],\n",
       "       [4, 5, 6]])"
      ]
     },
     "execution_count": 29,
     "metadata": {
      "tags": []
     },
     "output_type": "execute_result"
    },
    {
     "name": "stdout",
     "output_type": "stream",
     "text": [
      "\n",
      "\n"
     ]
    },
    {
     "data": {
      "text/plain": [
       "array([[5.52810469, 3.80031442, 5.95747597],\n",
       "       [9.4817864 , 9.73511598, 5.04544424]])"
      ]
     },
     "execution_count": 29,
     "metadata": {
      "tags": []
     },
     "output_type": "execute_result"
    },
    {
     "name": "stdout",
     "output_type": "stream",
     "text": [
      "\n",
      "\n"
     ]
    },
    {
     "data": {
      "text/plain": [
       "21"
      ]
     },
     "execution_count": 29,
     "metadata": {
      "tags": []
     },
     "output_type": "execute_result"
    }
   ],
   "source": [
    "np.random.seed(0)  # Set the seed for reproducibility\n",
    "my_sample = np.random.normal(loc=1, scale=2, size=(2, 3))\n",
    "x\n",
    "print('\\n')\n",
    "x+my_sample  # Add two arrays\n",
    "print('\\n')\n",
    "np.sum(x)  # Add all of the entries in x"
   ]
  },
  {
   "cell_type": "code",
   "execution_count": 30,
   "metadata": {
    "colab": {
     "base_uri": "https://localhost:8080/",
     "height": 1000
    },
    "colab_type": "code",
    "id": "LLmNLsFCDPTm",
    "outputId": "e3714b10-2cfd-4680-a42b-d900688a4d49"
   },
   "outputs": [
    {
     "name": "stdout",
     "output_type": "stream",
     "text": [
      "Help on built-in function normal:\n",
      "\n",
      "normal(...) method of numpy.random.mtrand.RandomState instance\n",
      "    normal(loc=0.0, scale=1.0, size=None)\n",
      "    \n",
      "    Draw random samples from a normal (Gaussian) distribution.\n",
      "    \n",
      "    The probability density function of the normal distribution, first\n",
      "    derived by De Moivre and 200 years later by both Gauss and Laplace\n",
      "    independently [2]_, is often called the bell curve because of\n",
      "    its characteristic shape (see the example below).\n",
      "    \n",
      "    The normal distributions occurs often in nature.  For example, it\n",
      "    describes the commonly occurring distribution of samples influenced\n",
      "    by a large number of tiny, random disturbances, each with its own\n",
      "    unique distribution [2]_.\n",
      "    \n",
      "    .. note::\n",
      "        New code should use the ``normal`` method of a ``default_rng()``\n",
      "        instance instead; see `random-quick-start`.\n",
      "    \n",
      "    Parameters\n",
      "    ----------\n",
      "    loc : float or array_like of floats\n",
      "        Mean (\"centre\") of the distribution.\n",
      "    scale : float or array_like of floats\n",
      "        Standard deviation (spread or \"width\") of the distribution. Must be\n",
      "        non-negative.\n",
      "    size : int or tuple of ints, optional\n",
      "        Output shape.  If the given shape is, e.g., ``(m, n, k)``, then\n",
      "        ``m * n * k`` samples are drawn.  If size is ``None`` (default),\n",
      "        a single value is returned if ``loc`` and ``scale`` are both scalars.\n",
      "        Otherwise, ``np.broadcast(loc, scale).size`` samples are drawn.\n",
      "    \n",
      "    Returns\n",
      "    -------\n",
      "    out : ndarray or scalar\n",
      "        Drawn samples from the parameterized normal distribution.\n",
      "    \n",
      "    See Also\n",
      "    --------\n",
      "    scipy.stats.norm : probability density function, distribution or\n",
      "        cumulative density function, etc.\n",
      "    Generator.normal: which should be used for new code.\n",
      "    \n",
      "    Notes\n",
      "    -----\n",
      "    The probability density for the Gaussian distribution is\n",
      "    \n",
      "    .. math:: p(x) = \\frac{1}{\\sqrt{ 2 \\pi \\sigma^2 }}\n",
      "                     e^{ - \\frac{ (x - \\mu)^2 } {2 \\sigma^2} },\n",
      "    \n",
      "    where :math:`\\mu` is the mean and :math:`\\sigma` the standard\n",
      "    deviation. The square of the standard deviation, :math:`\\sigma^2`,\n",
      "    is called the variance.\n",
      "    \n",
      "    The function has its peak at the mean, and its \"spread\" increases with\n",
      "    the standard deviation (the function reaches 0.607 times its maximum at\n",
      "    :math:`x + \\sigma` and :math:`x - \\sigma` [2]_).  This implies that\n",
      "    normal is more likely to return samples lying close to the mean, rather\n",
      "    than those far away.\n",
      "    \n",
      "    References\n",
      "    ----------\n",
      "    .. [1] Wikipedia, \"Normal distribution\",\n",
      "           https://en.wikipedia.org/wiki/Normal_distribution\n",
      "    .. [2] P. R. Peebles Jr., \"Central Limit Theorem\" in \"Probability,\n",
      "           Random Variables and Random Signal Principles\", 4th ed., 2001,\n",
      "           pp. 51, 51, 125.\n",
      "    \n",
      "    Examples\n",
      "    --------\n",
      "    Draw samples from the distribution:\n",
      "    \n",
      "    >>> mu, sigma = 0, 0.1 # mean and standard deviation\n",
      "    >>> s = np.random.normal(mu, sigma, 1000)\n",
      "    \n",
      "    Verify the mean and the variance:\n",
      "    \n",
      "    >>> abs(mu - np.mean(s))\n",
      "    0.0  # may vary\n",
      "    \n",
      "    >>> abs(sigma - np.std(s, ddof=1))\n",
      "    0.1  # may vary\n",
      "    \n",
      "    Display the histogram of the samples, along with\n",
      "    the probability density function:\n",
      "    \n",
      "    >>> import matplotlib.pyplot as plt\n",
      "    >>> count, bins, ignored = plt.hist(s, 30, density=True)\n",
      "    >>> plt.plot(bins, 1/(sigma * np.sqrt(2 * np.pi)) *\n",
      "    ...                np.exp( - (bins - mu)**2 / (2 * sigma**2) ),\n",
      "    ...          linewidth=2, color='r')\n",
      "    >>> plt.show()\n",
      "    \n",
      "    Two-by-four array of samples from N(3, 6.25):\n",
      "    \n",
      "    >>> np.random.normal(3, 2.5, size=(2, 4))\n",
      "    array([[-4.49401501,  4.00950034, -1.81814867,  7.29718677],   # random\n",
      "           [ 0.39924804,  4.68456316,  4.99394529,  4.84057254]])  # random\n",
      "\n"
     ]
    }
   ],
   "source": [
    "help(np.random.normal)"
   ]
  },
  {
   "cell_type": "code",
   "execution_count": 31,
   "metadata": {
    "colab": {
     "base_uri": "https://localhost:8080/",
     "height": 50
    },
    "colab_type": "code",
    "id": "9N9VcNAR9ePK",
    "outputId": "537c7603-9fa2-4969-f2ab-5924ced4b711"
   },
   "outputs": [
    {
     "data": {
      "text/plain": [
       "array([[1.        , 1.41421356, 1.73205081],\n",
       "       [2.        , 2.23606798, 2.44948974]])"
      ]
     },
     "execution_count": 31,
     "metadata": {
      "tags": []
     },
     "output_type": "execute_result"
    }
   ],
   "source": [
    "np.sqrt(x)  # Take the square root of x element-wise"
   ]
  },
  {
   "cell_type": "code",
   "execution_count": 32,
   "metadata": {
    "colab": {
     "base_uri": "https://localhost:8080/",
     "height": 83
    },
    "colab_type": "code",
    "id": "stfkDukgDa4n",
    "outputId": "12e97859-794c-4d3f-d43d-c47c4e35d175"
   },
   "outputs": [
    {
     "name": "stderr",
     "output_type": "stream",
     "text": [
      "/usr/local/lib/python3.6/dist-packages/ipykernel_launcher.py:2: RuntimeWarning: invalid value encountered in sqrt\n",
      "  \n"
     ]
    },
    {
     "data": {
      "text/plain": [
       "array([[       nan, 1.41421356, 1.73205081],\n",
       "       [2.        , 2.23606798, 2.44948974]])"
      ]
     },
     "execution_count": 32,
     "metadata": {
      "tags": []
     },
     "output_type": "execute_result"
    }
   ],
   "source": [
    "x[0, 0] = -1\n",
    "np.sqrt(x)"
   ]
  },
  {
   "cell_type": "code",
   "execution_count": 33,
   "metadata": {
    "colab": {
     "base_uri": "https://localhost:8080/",
     "height": 50
    },
    "colab_type": "code",
    "id": "xTWs1Sz59ePP",
    "outputId": "f84106c2-41fd-4845-a152-da7c3e0e3ae8"
   },
   "outputs": [
    {
     "data": {
      "text/plain": [
       "array([[ 1,  4,  9],\n",
       "       [16, 25, 36]])"
      ]
     },
     "execution_count": 33,
     "metadata": {
      "tags": []
     },
     "output_type": "execute_result"
    }
   ],
   "source": [
    "x ** 2  # Square the entries in x element-wise "
   ]
  },
  {
   "cell_type": "code",
   "execution_count": 34,
   "metadata": {
    "colab": {
     "base_uri": "https://localhost:8080/",
     "height": 50
    },
    "colab_type": "code",
    "id": "nzhD9NCO9ePU",
    "outputId": "9c77c1ee-e9e2-4af6-c09f-913e5a9bb9ec"
   },
   "outputs": [
    {
     "data": {
      "text/plain": [
       "array([[ 1,  4,  9],\n",
       "       [16, 25, 36]])"
      ]
     },
     "execution_count": 34,
     "metadata": {
      "tags": []
     },
     "output_type": "execute_result"
    }
   ],
   "source": [
    "x*x  # Element-wise multiplication of individual elements in x"
   ]
  },
  {
   "cell_type": "code",
   "execution_count": 35,
   "metadata": {
    "colab": {
     "base_uri": "https://localhost:8080/",
     "height": 116
    },
    "colab_type": "code",
    "id": "U7SWE0oV9ePZ",
    "outputId": "1e51fdd4-1489-434d-a66a-c8384acb92b7"
   },
   "outputs": [
    {
     "name": "stdout",
     "output_type": "stream",
     "text": [
      "y= [[-1  4]\n",
      " [ 2  5]\n",
      " [ 3  6]]\n",
      "Dimensions of y: (3, 2)\n",
      "Number of rows in y: 3\n",
      "Number of rows in y: 3\n"
     ]
    }
   ],
   "source": [
    "y = x.T  # Transpose of x\n",
    "print('y=', y)\n",
    "print('Dimensions of y:', y.shape)  # Dimensions of y\n",
    "print('Number of rows in y:', y.shape[0])  # Number of rows\n",
    "print('Number of rows in y:', np.size(y, 0))  # Another way to get the number of rows"
   ]
  },
  {
   "cell_type": "code",
   "execution_count": 1,
   "metadata": {
    "colab": {
     "base_uri": "https://localhost:8080/",
     "height": 200
    },
    "colab_type": "code",
    "id": "D0ePwo2U9ePd",
    "outputId": "fbae2322-672d-4f9c-95e2-33b0823b9fb2",
    "scrolled": true
   },
   "outputs": [
    {
     "ename": "NameError",
     "evalue": "name 'y' is not defined",
     "output_type": "error",
     "traceback": [
      "\u001b[0;31m---------------------------------------------------------------------------\u001b[0m",
      "\u001b[0;31mNameError\u001b[0m                                 Traceback (most recent call last)",
      "\u001b[0;32m<ipython-input-1-6eb010b8337a>\u001b[0m in \u001b[0;36m<module>\u001b[0;34m\u001b[0m\n\u001b[0;32m----> 1\u001b[0;31m \u001b[0my\u001b[0m \u001b[0;34m@\u001b[0m \u001b[0mx\u001b[0m  \u001b[0;31m# Matrix multiplication (python 3 only)\u001b[0m\u001b[0;34m\u001b[0m\u001b[0;34m\u001b[0m\u001b[0m\n\u001b[0m\u001b[1;32m      2\u001b[0m \u001b[0mprint\u001b[0m\u001b[0;34m(\u001b[0m\u001b[0;34m'\\n'\u001b[0m\u001b[0;34m)\u001b[0m\u001b[0;34m\u001b[0m\u001b[0;34m\u001b[0m\u001b[0m\n\u001b[1;32m      3\u001b[0m \u001b[0my\u001b[0m\u001b[0;34m.\u001b[0m\u001b[0mdot\u001b[0m\u001b[0;34m(\u001b[0m\u001b[0mx\u001b[0m\u001b[0;34m)\u001b[0m \u001b[0;31m# Another way to perform matrix multiplication\u001b[0m\u001b[0;34m\u001b[0m\u001b[0;34m\u001b[0m\u001b[0m\n\u001b[1;32m      4\u001b[0m \u001b[0mprint\u001b[0m\u001b[0;34m(\u001b[0m\u001b[0;34m'\\n'\u001b[0m\u001b[0;34m)\u001b[0m\u001b[0;34m\u001b[0m\u001b[0;34m\u001b[0m\u001b[0m\n\u001b[1;32m      5\u001b[0m \u001b[0mnp\u001b[0m\u001b[0;34m.\u001b[0m\u001b[0mdot\u001b[0m\u001b[0;34m(\u001b[0m\u001b[0my\u001b[0m\u001b[0;34m,\u001b[0m \u001b[0mx\u001b[0m\u001b[0;34m)\u001b[0m  \u001b[0;31m# Does the same thing\u001b[0m\u001b[0;34m\u001b[0m\u001b[0;34m\u001b[0m\u001b[0m\n",
      "\u001b[0;31mNameError\u001b[0m: name 'y' is not defined"
     ]
    }
   ],
   "source": [
    "y @ x  # Matrix multiplication (python 3 only)\n",
    "print('\\n')\n",
    "y.dot(x) # Another way to perform matrix multiplication\n",
    "print('\\n')\n",
    "np.dot(y, x)  # Does the same thing"
   ]
  },
  {
   "cell_type": "code",
   "execution_count": 39,
   "metadata": {
    "colab": {
     "base_uri": "https://localhost:8080/",
     "height": 33
    },
    "colab_type": "code",
    "id": "DJM9lTiu9ePh",
    "outputId": "b4a3e8f0-d196-4df6-86dd-7ed084e09a05"
   },
   "outputs": [
    {
     "data": {
      "text/plain": [
       "array([[2, 5]])"
      ]
     },
     "execution_count": 39,
     "metadata": {
      "tags": []
     },
     "output_type": "execute_result"
    }
   ],
   "source": [
    "y[1:2, :]  # Get the second row of the matrix y and every column"
   ]
  },
  {
   "cell_type": "code",
   "execution_count": 40,
   "metadata": {
    "colab": {
     "base_uri": "https://localhost:8080/",
     "height": 50
    },
    "colab_type": "code",
    "id": "1lr7UtSLEZDb",
    "outputId": "d81ea654-bea6-4df3-f84a-8675adbdf8f4"
   },
   "outputs": [
    {
     "data": {
      "text/plain": [
       "array([[2, 5],\n",
       "       [3, 6]])"
      ]
     },
     "execution_count": 40,
     "metadata": {
      "tags": []
     },
     "output_type": "execute_result"
    }
   ],
   "source": [
    "y[1:, :]"
   ]
  },
  {
   "cell_type": "markdown",
   "metadata": {
    "colab_type": "text",
    "id": "Gk3kidqX9ePn"
   },
   "source": [
    "NumPy has quite a few linear algebra routines. "
   ]
  },
  {
   "cell_type": "code",
   "execution_count": 41,
   "metadata": {
    "colab": {
     "base_uri": "https://localhost:8080/",
     "height": 50
    },
    "colab_type": "code",
    "id": "LLx2mFOE9ePo",
    "outputId": "d7e22052-6f4c-465b-f86d-9881153be569"
   },
   "outputs": [
    {
     "data": {
      "text/plain": [
       "array([[ 0.15338645, -0.04780876],\n",
       "       [-0.04780876,  0.02788845]])"
      ]
     },
     "execution_count": 41,
     "metadata": {
      "tags": []
     },
     "output_type": "execute_result"
    }
   ],
   "source": [
    "z = np.dot(x, x.T)\n",
    "np.linalg.inv(z)  # Inverse of z"
   ]
  },
  {
   "cell_type": "code",
   "execution_count": 42,
   "metadata": {
    "colab": {
     "base_uri": "https://localhost:8080/",
     "height": 50
    },
    "colab_type": "code",
    "id": "dJhPRmAL9ePs",
    "outputId": "c5d808af-bf63-4ede-cc9b-b10da3ec9360"
   },
   "outputs": [
    {
     "data": {
      "text/plain": [
       "array([ 5.89886365, 85.10113635])"
      ]
     },
     "execution_count": 42,
     "metadata": {
      "tags": []
     },
     "output_type": "execute_result"
    },
    {
     "data": {
      "text/plain": [
       "array([[-0.94747869, -0.31981892],\n",
       "       [ 0.31981892, -0.94747869]])"
      ]
     },
     "execution_count": 42,
     "metadata": {
      "tags": []
     },
     "output_type": "execute_result"
    }
   ],
   "source": [
    "np.linalg.eig(z)[0]  # Eigenvalues of z\n",
    "np.linalg.eig(z)[1]  # Corresponding eigenvectors of z"
   ]
  },
  {
   "cell_type": "markdown",
   "metadata": {
    "colab_type": "text",
    "id": "9OfQwDU99ePx"
   },
   "source": [
    "Throughout the labs I will try to include exercises for you, like the ones below. These are not graded, but should aid in your understanding and possibly help you directly or indirectly with the homework.\n",
    "\n",
    "**Exercise 1.** Consider the vector $x = (1, 3, 5, 7, 9)$. Using Python, compute the square root of the sum of\n",
    "the squares of its elements, i.e., $\\sqrt{1^2 + 3^2 + 5^2 + 7^2 + 9^2}$."
   ]
  },
  {
   "cell_type": "code",
   "execution_count": 45,
   "metadata": {
    "colab": {
     "base_uri": "https://localhost:8080/",
     "height": 33
    },
    "colab_type": "code",
    "id": "TxBt6JB39ePy",
    "outputId": "67c8fbd3-dc55-4ba8-ebe6-04f173e5037e"
   },
   "outputs": [
    {
     "data": {
      "text/plain": [
       "12.84523257866513"
      ]
     },
     "execution_count": 45,
     "metadata": {
      "tags": []
     },
     "output_type": "execute_result"
    }
   ],
   "source": [
    "x = np.array([1, 3, 5, 7, 9])\n",
    "np.sqrt(sum(x**2))"
   ]
  },
  {
   "cell_type": "code",
   "execution_count": 46,
   "metadata": {
    "colab": {
     "base_uri": "https://localhost:8080/",
     "height": 33
    },
    "colab_type": "code",
    "id": "AuoWJqSAGzEk",
    "outputId": "3a16f6b5-af67-483c-96c6-8d3b346afdf1"
   },
   "outputs": [
    {
     "data": {
      "text/plain": [
       "12.84523257866513"
      ]
     },
     "execution_count": 46,
     "metadata": {
      "tags": []
     },
     "output_type": "execute_result"
    }
   ],
   "source": [
    "np.linalg.norm(x)"
   ]
  },
  {
   "cell_type": "markdown",
   "metadata": {
    "colab_type": "text",
    "id": "xCyDOTdV9eP2"
   },
   "source": [
    " **Exercise 2.** Generate data using the following code:\n",
    "~~~\n",
    "np.random.seed(0)\n",
    "A = np.random.uniform(size=(4,4))\n",
    "A = A/np.linalg.norm(A, 1, axis=0)\n",
    "~~~\n",
    "Let $A_{i, j}$ denote the element in the $i^{th}$ row and $j^{th}$ column of $A$ (using 1-based indexing). Compute the following quantity without using a `for` loop:\n",
    "$$ \\frac{1}{2}\\sum_{j=1}^4 |A_{2,j}-A_{4,j}| $$"
   ]
  },
  {
   "cell_type": "code",
   "execution_count": 48,
   "metadata": {
    "colab": {
     "base_uri": "https://localhost:8080/",
     "height": 33
    },
    "colab_type": "code",
    "id": "l0xGn3G59eP3",
    "outputId": "cfc4b9a3-d1c1-494c-a2cb-1b3f5c8a4384"
   },
   "outputs": [
    {
     "data": {
      "text/plain": [
       "0.3735075655303005"
      ]
     },
     "execution_count": 48,
     "metadata": {
      "tags": []
     },
     "output_type": "execute_result"
    },
    {
     "data": {
      "text/plain": [
       "0.3735075655303005"
      ]
     },
     "execution_count": 48,
     "metadata": {
      "tags": []
     },
     "output_type": "execute_result"
    }
   ],
   "source": [
    "np.random.seed(0)\n",
    "A = np.random.uniform(size=(4,4))\n",
    "A = A/np.linalg.norm(A, 1, axis=0)\n",
    "0.5*np.sum(np.abs(A[1, :]-A[3, :]))\n",
    "0.5*np.sum(np.abs(A[1:2, :]-A[3:4, :]))"
   ]
  },
  {
   "cell_type": "markdown",
   "metadata": {
    "colab_type": "text",
    "id": "SVkrpNeo9eP7"
   },
   "source": [
    "## 2.4 A word of caution\n",
    "Sometimes Python does things you may not expect. The code below can be unexpected and if you end up with a bug related to it, it can be very difficult to find!"
   ]
  },
  {
   "cell_type": "code",
   "execution_count": 0,
   "metadata": {
    "colab": {},
    "colab_type": "code",
    "id": "645JcDiC9eP9"
   },
   "outputs": [],
   "source": [
    "A = np.ones((2, 2))  # Create a matrix of ones\n",
    "A"
   ]
  },
  {
   "cell_type": "code",
   "execution_count": 0,
   "metadata": {
    "colab": {},
    "colab_type": "code",
    "id": "yHNxPbCk9eQB"
   },
   "outputs": [],
   "source": [
    "B = A\n",
    "B"
   ]
  },
  {
   "cell_type": "code",
   "execution_count": 0,
   "metadata": {
    "colab": {},
    "colab_type": "code",
    "id": "N722WPUR9eQG"
   },
   "outputs": [],
   "source": [
    "B[0, 1] = 2  # Change one entry in B\n",
    "B \n",
    "A  # This also changed the same entry in A!"
   ]
  },
  {
   "cell_type": "markdown",
   "metadata": {
    "colab_type": "text",
    "id": "P6aJ5N-p9eQP"
   },
   "source": [
    "Why did that happen? When you set B to A, you are copying a memory address, not creating a new copy of A. You should keep this in mind! To avoid this problem, you can use the copy method or the copy package:"
   ]
  },
  {
   "cell_type": "code",
   "execution_count": 0,
   "metadata": {
    "colab": {},
    "colab_type": "code",
    "id": "KuWeC9ZQ9eQQ"
   },
   "outputs": [],
   "source": [
    "import copy\n",
    "A = np.ones((2, 2))  \n",
    "B = A.copy()  # Copy A instead of its memory address\n",
    "B[0, 1] = 2\n",
    "B\n",
    "A"
   ]
  },
  {
   "cell_type": "markdown",
   "metadata": {
    "colab_type": "text",
    "id": "qhD5PW599eQU"
   },
   "source": [
    "**Exercise 3**: Find the bugs in the following lines of code:\n",
    "1. \n",
    "~~~\n",
    "5**1/2  # Compute the square root of 5\n",
    "~~~\n",
    "2. ~~~\n",
    "range(1, 5)  # Create a list of numbers between 1 and 5, inclusive\n",
    "~~~\n",
    "3. ~~~\n",
    "from numpy import sqrt\n",
    "a = 4\n",
    "sqrt = 2\n",
    "b = 5\n",
    "sqrt_b = sqrt(5)  # Compute the square root of 5\n",
    "~~~\n",
    "4. ~~~\n",
    "for i in range(5, 0):  # Loop over the values from 5 down to 0 (inclusive)\n",
    "        print(i)\n",
    "~~~"
   ]
  },
  {
   "cell_type": "code",
   "execution_count": 52,
   "metadata": {
    "colab": {
     "base_uri": "https://localhost:8080/",
     "height": 33
    },
    "colab_type": "code",
    "id": "uYdxlYzpKBa7",
    "outputId": "5286a88b-3dc4-4bc3-a1a3-d4e1efacd658"
   },
   "outputs": [
    {
     "data": {
      "text/plain": [
       "2.23606797749979"
      ]
     },
     "execution_count": 52,
     "metadata": {
      "tags": []
     },
     "output_type": "execute_result"
    }
   ],
   "source": [
    "# Answers\n",
    "# Question 1\n",
    "5**(1/2)"
   ]
  },
  {
   "cell_type": "code",
   "execution_count": 54,
   "metadata": {
    "colab": {
     "base_uri": "https://localhost:8080/",
     "height": 33
    },
    "colab_type": "code",
    "id": "66tqiqkAKVwZ",
    "outputId": "0673da9b-f3b4-4eeb-9f5e-bbcc962f0bd1"
   },
   "outputs": [
    {
     "data": {
      "text/plain": [
       "range(1, 6)"
      ]
     },
     "execution_count": 54,
     "metadata": {
      "tags": []
     },
     "output_type": "execute_result"
    }
   ],
   "source": [
    "# Question 2\n",
    "range(1, 6)"
   ]
  },
  {
   "cell_type": "code",
   "execution_count": 56,
   "metadata": {
    "colab": {
     "base_uri": "https://localhost:8080/",
     "height": 33
    },
    "colab_type": "code",
    "id": "KrsDw7a7Kbdr",
    "outputId": "fecb1ccb-1136-4daf-97c0-8f8b533c0d5b"
   },
   "outputs": [
    {
     "data": {
      "text/plain": [
       "2.23606797749979"
      ]
     },
     "execution_count": 56,
     "metadata": {
      "tags": []
     },
     "output_type": "execute_result"
    }
   ],
   "source": [
    "# Question 3\n",
    "# the sqrt function was overriden by the variable\n",
    "np.sqrt(5)"
   ]
  },
  {
   "cell_type": "code",
   "execution_count": 57,
   "metadata": {
    "colab": {
     "base_uri": "https://localhost:8080/",
     "height": 116
    },
    "colab_type": "code",
    "id": "eiiupgN1KegU",
    "outputId": "17558117-806c-417b-d63b-8dba7e9903be"
   },
   "outputs": [
    {
     "name": "stdout",
     "output_type": "stream",
     "text": [
      "5\n",
      "4\n",
      "3\n",
      "2\n",
      "1\n",
      "0\n"
     ]
    }
   ],
   "source": [
    "# Question 4\n",
    "for i in range(5, -1, -1):\n",
    "  print(i)"
   ]
  },
  {
   "cell_type": "markdown",
   "metadata": {
    "colab_type": "text",
    "id": "_FG-4HrT9eQU"
   },
   "source": [
    "While you may think some of these bugs are contrived, you will likely encounter at least one of them in some (possibly more complicated) form in the future. "
   ]
  },
  {
   "cell_type": "markdown",
   "metadata": {
    "colab_type": "text",
    "id": "9d4WuMXG9eQV"
   },
   "source": [
    "## 2.5 Plotting\n",
    "Matplotlib is the main plotting package in Python."
   ]
  },
  {
   "cell_type": "code",
   "execution_count": 49,
   "metadata": {
    "colab": {
     "base_uri": "https://localhost:8080/",
     "height": 311
    },
    "colab_type": "code",
    "id": "Z-LTjt1T9eQW",
    "outputId": "2f03865f-bb88-4cc5-d6b1-c7f3f3f7b477"
   },
   "outputs": [
    {
     "data": {
      "text/plain": [
       "[<matplotlib.lines.Line2D at 0x7f4ef7ced438>]"
      ]
     },
     "execution_count": 49,
     "metadata": {
      "tags": []
     },
     "output_type": "execute_result"
    },
    {
     "data": {
      "text/plain": [
       "Text(0.5, 0, 'x label')"
      ]
     },
     "execution_count": 49,
     "metadata": {
      "tags": []
     },
     "output_type": "execute_result"
    },
    {
     "data": {
      "text/plain": [
       "Text(0, 0.5, 'y label')"
      ]
     },
     "execution_count": 49,
     "metadata": {
      "tags": []
     },
     "output_type": "execute_result"
    },
    {
     "data": {
      "text/plain": [
       "Text(0.5, 1.0, 'My Title')"
      ]
     },
     "execution_count": 49,
     "metadata": {
      "tags": []
     },
     "output_type": "execute_result"
    },
    {
     "data": {
      "image/png": "[encoded data removed]",
      "text/plain": [
       "<Figure size 432x288 with 1 Axes>"
      ]
     },
     "metadata": {
      "tags": []
     },
     "output_type": "display_data"
    }
   ],
   "source": [
    "# The line below says to display the graphs inside this notebook\n",
    "%matplotlib inline  \n",
    "import matplotlib.pyplot as plt  # Import the matplotlib plotting library\n",
    "\n",
    "# Generate a sequence of numbers from -10 to 10 with 100 steps in between\n",
    "x = np.linspace(-10, 10, 100)\n",
    "# Create a second array using sine\n",
    "y = np.sin(x)\n",
    "# The plot function plots the first argument on the x-axis, the second argument on the y-axis and \n",
    "# connects the points.\n",
    "plt.plot(x, y, marker=\"x\")\n",
    "plt.xlabel('x label')  # Add a label to the x-axis\n",
    "plt.ylabel('y label')  # Add a label to the y-axis\n",
    "plt.title('My Title')  # Add a plot title"
   ]
  },
  {
   "cell_type": "code",
   "execution_count": 0,
   "metadata": {
    "colab": {},
    "colab_type": "code",
    "id": "mzObiO7_9eQZ"
   },
   "outputs": [],
   "source": [
    "plt.scatter(x, y)  # Scatter doesn't connect the points"
   ]
  },
  {
   "cell_type": "markdown",
   "metadata": {
    "colab_type": "text",
    "id": "pbY-JEPz9eQc"
   },
   "source": [
    "# 3 Reading and manipulating data"
   ]
  },
  {
   "cell_type": "markdown",
   "metadata": {
    "colab_type": "text",
    "id": "Jo9Aw5ka9eQc"
   },
   "source": [
    "The library Pandas is quite popular for reading in datasets and manipulating them. Below are a few things you can do with it."
   ]
  },
  {
   "cell_type": "code",
   "execution_count": 50,
   "metadata": {
    "colab": {
     "base_uri": "https://localhost:8080/",
     "height": 167
    },
    "colab_type": "code",
    "id": "qYNhoywi9eQc",
    "outputId": "704b33e9-4270-4fba-a455-cbf7f348f028"
   },
   "outputs": [
    {
     "data": {
      "text/html": [
       "<div>\n",
       "<style scoped>\n",
       "    .dataframe tbody tr th:only-of-type {\n",
       "        vertical-align: middle;\n",
       "    }\n",
       "\n",
       "    .dataframe tbody tr th {\n",
       "        vertical-align: top;\n",
       "    }\n",
       "\n",
       "    .dataframe thead th {\n",
       "        text-align: right;\n",
       "    }\n",
       "</style>\n",
       "<table border=\"1\" class=\"dataframe\">\n",
       "  <thead>\n",
       "    <tr style=\"text-align: right;\">\n",
       "      <th></th>\n",
       "      <th>Name</th>\n",
       "      <th>Location</th>\n",
       "      <th>Age</th>\n",
       "    </tr>\n",
       "  </thead>\n",
       "  <tbody>\n",
       "    <tr>\n",
       "      <th>0</th>\n",
       "      <td>John</td>\n",
       "      <td>New York</td>\n",
       "      <td>24</td>\n",
       "    </tr>\n",
       "    <tr>\n",
       "      <th>1</th>\n",
       "      <td>Anna</td>\n",
       "      <td>Paris</td>\n",
       "      <td>13</td>\n",
       "    </tr>\n",
       "    <tr>\n",
       "      <th>2</th>\n",
       "      <td>Peter</td>\n",
       "      <td>Berlin</td>\n",
       "      <td>53</td>\n",
       "    </tr>\n",
       "    <tr>\n",
       "      <th>3</th>\n",
       "      <td>Linda</td>\n",
       "      <td>London</td>\n",
       "      <td>33</td>\n",
       "    </tr>\n",
       "  </tbody>\n",
       "</table>\n",
       "</div>"
      ],
      "text/plain": [
       "    Name  Location  Age\n",
       "0   John  New York   24\n",
       "1   Anna     Paris   13\n",
       "2  Peter    Berlin   53\n",
       "3  Linda    London   33"
      ]
     },
     "metadata": {
      "tags": []
     },
     "output_type": "display_data"
    }
   ],
   "source": [
    "import pandas as pd\n",
    "\n",
    "# Create a simple dataset of people\n",
    "data = {'Name': [\"John\", \"Anna\", \"Peter\", \"Linda\"],\n",
    "        'Location' : [\"New York\", \"Paris\", \"Berlin\", \"London\"],\n",
    "        'Age' : [24, 13, 53, 33]\n",
    "       }\n",
    "\n",
    "data_pandas = pd.DataFrame(data)  # Turn the dictionary into a data frame\n",
    "# IPython.display allows \"pretty printing\" of dataframes in the Jupyter notebook\n",
    "from IPython.core.display import display\n",
    "display(data_pandas)"
   ]
  },
  {
   "cell_type": "code",
   "execution_count": 0,
   "metadata": {
    "colab": {},
    "colab_type": "code",
    "id": "67FrXkYR9eQi"
   },
   "outputs": [],
   "source": [
    "# One of many possible ways to query the table:\n",
    "# selecting all rows that have an age column greater than 30\n",
    "data_pandas[data_pandas.Age > 30]"
   ]
  },
  {
   "cell_type": "code",
   "execution_count": 0,
   "metadata": {
    "colab": {},
    "colab_type": "code",
    "id": "QmCb5c5H9eQn"
   },
   "outputs": [],
   "source": [
    "np.asarray(data_pandas.Age)  # Get the Age column and convert it to a numpy array"
   ]
  },
  {
   "cell_type": "markdown",
   "metadata": {
    "colab_type": "text",
    "id": "IK2YtTiF9eQs"
   },
   "source": [
    "If you had a dataset that you wanted to load, you could use pd.read_table() or pd.read_csv(). For example,"
   ]
  },
  {
   "cell_type": "code",
   "execution_count": 0,
   "metadata": {
    "colab": {},
    "colab_type": "code",
    "id": "J8z1qSYD9eQt"
   },
   "outputs": [],
   "source": [
    "# Load a dataset about cars\n",
    "# sep=',' says that the data is comma-delimited\n",
    "# header=0 denotes the fact that the header is the first line of data. If there's no header, use header=None\n",
    "pd.read_csv('http://faculty.marshall.usc.edu/gareth-james/ISL/Auto.csv', sep=',', header=0)"
   ]
  },
  {
   "cell_type": "markdown",
   "metadata": {
    "colab_type": "text",
    "id": "KA3Aiafy9eQy"
   },
   "source": [
    "# 4 Fitting machine learning models\n",
    "The package scikit-learn is the most popular machine learning package in Python. It allows you to easily fit a wide variety of models. Here we'll show you how to fit nearest neighbors and ridge regression models in scikit-learn and use them to make predictions."
   ]
  },
  {
   "cell_type": "markdown",
   "metadata": {
    "colab_type": "text",
    "id": "SEhlsaxP9eQz"
   },
   "source": [
    "## 4.1 Loading data from scikit-learn\n",
    "First we'll take a look at the iris dataset in scikit-learn. Suppose that we are interested in identifying the species of some Iris plants we found. We have information on the irises' petal and sepal widths and lengths. Moreover, we have the same information from a botanist on a bunch of already identified Iris plants that were labeled as being one of the species *setosa*, *versicolor*, or *virginica*. We will fit a machine learning model to the data with the known species type in order to classify our new plants.\n",
    "\n",
    "First, let's load the dataset and see what it contains."
   ]
  },
  {
   "cell_type": "code",
   "execution_count": 0,
   "metadata": {
    "colab": {},
    "colab_type": "code",
    "id": "SOF0QhbN9eQ0"
   },
   "outputs": [],
   "source": [
    "from sklearn.datasets import load_iris\n",
    "iris_dataset = load_iris()  # Load the iris dataset from scikit-learn"
   ]
  },
  {
   "cell_type": "markdown",
   "metadata": {
    "colab_type": "text",
    "id": "FXfE77Ca9eQ5"
   },
   "source": [
    "The scikit-learn datasets are objects that are similar to dictionaries, in that they have keys and values. In this case, the object contains the following keys and corresponding values:\n",
    "- data: A numpy array with the measurements of the Iris plants (the predictors)\n",
    "- target: A numpy array with the type of flower for each plant (the response)\n",
    "- target_names: A list of strings, containing the three possible species of flowers \n",
    "- DESCR: A short description of the dataset\n",
    "- feature_names: A list of strings, with a description of each feature"
   ]
  },
  {
   "cell_type": "code",
   "execution_count": 0,
   "metadata": {
    "colab": {},
    "colab_type": "code",
    "id": "z6U-jY0v9eQ5"
   },
   "outputs": [],
   "source": [
    "print(\"Keys of iris_dataset: {}\".format(iris_dataset.keys()))"
   ]
  },
  {
   "cell_type": "code",
   "execution_count": 0,
   "metadata": {
    "colab": {},
    "colab_type": "code",
    "id": "G-YKX-N29eQ-"
   },
   "outputs": [],
   "source": [
    "print(iris_dataset['DESCR'][:193] + \"\\n...\")  # Get the first part of the dataset description"
   ]
  },
  {
   "cell_type": "code",
   "execution_count": 0,
   "metadata": {
    "colab": {},
    "colab_type": "code",
    "id": "64INnkUp9eRB"
   },
   "outputs": [],
   "source": [
    "print(\"Target names: {}\".format(iris_dataset['target_names']))  # Names of response categories"
   ]
  },
  {
   "cell_type": "code",
   "execution_count": 0,
   "metadata": {
    "colab": {},
    "colab_type": "code",
    "id": "8yU-uc4N9eRF"
   },
   "outputs": [],
   "source": [
    "print(\"Feature names: {}\".format(iris_dataset['feature_names']))  # Names of features"
   ]
  },
  {
   "cell_type": "code",
   "execution_count": 0,
   "metadata": {
    "colab": {},
    "colab_type": "code",
    "id": "vahCfxxX9eRJ"
   },
   "outputs": [],
   "source": [
    "print(\"Type of data: {}\".format(type(iris_dataset['data'])))  # Data type of features"
   ]
  },
  {
   "cell_type": "code",
   "execution_count": 0,
   "metadata": {
    "colab": {},
    "colab_type": "code",
    "id": "rV_4H8nU9eRO"
   },
   "outputs": [],
   "source": [
    "print(\"Shape of data: {}\".format(iris_dataset['data'].shape))  # 150 samples, each with 4 features"
   ]
  },
  {
   "cell_type": "code",
   "execution_count": 0,
   "metadata": {
    "colab": {},
    "colab_type": "code",
    "id": "qg-5r5pm9eRU"
   },
   "outputs": [],
   "source": [
    "print(\"First five rows of data:\\n{}\".format(iris_dataset['data'][:5, :]))"
   ]
  },
  {
   "cell_type": "code",
   "execution_count": 0,
   "metadata": {
    "colab": {},
    "colab_type": "code",
    "id": "LeTpSxXX9eRb"
   },
   "outputs": [],
   "source": [
    "print(\"Type of target: {}\".format(type(iris_dataset['target'])))  # Data type of response"
   ]
  },
  {
   "cell_type": "code",
   "execution_count": 0,
   "metadata": {
    "colab": {},
    "colab_type": "code",
    "id": "mEHMzsoB9eRi"
   },
   "outputs": [],
   "source": [
    "print(\"Shape of target: {}\".format(iris_dataset['target'].shape))  # 150 samples (matches the dimensions from above)"
   ]
  },
  {
   "cell_type": "markdown",
   "metadata": {
    "colab_type": "text",
    "id": "4SmiPk6T9eRl"
   },
   "source": [
    "The target (response) is coded as 0-2, with the numbering in the same order as the species names appear in iris_dataset['target_names']. In other words, 0 corresponds to *setosa*, 1 corresponds to *versicolor*, and 2 corresponds to *virginica*."
   ]
  },
  {
   "cell_type": "code",
   "execution_count": 0,
   "metadata": {
    "colab": {},
    "colab_type": "code",
    "id": "XtkT5cFa9eRm"
   },
   "outputs": [],
   "source": [
    "print(\"Target:\\n{}\".format(iris_dataset['target']))"
   ]
  },
  {
   "cell_type": "markdown",
   "metadata": {
    "colab_type": "text",
    "id": "-vR5fcYa9eRq"
   },
   "source": [
    "## 4.2 Splitting data into training and test sets\n",
    "In order to be able to assess our model's performance we will divide the data into training and test sets. Scikit-learn provides a nice function called `train_test_split()` that will do this for you. It shuffles the data and then randomly divides it into training and test sets. The first two arguments are the features (X) and the response (y). There are a number of additional optional arguments, including `random_state` (the state for the random number generator), and `test_size` (the fraction of samples to go into the test set)."
   ]
  },
  {
   "cell_type": "code",
   "execution_count": 0,
   "metadata": {
    "colab": {},
    "colab_type": "code",
    "id": "coyWsmti9eRq"
   },
   "outputs": [],
   "source": [
    "from sklearn.model_selection import train_test_split\n",
    "X_train, X_test, y_train, y_test = train_test_split(\n",
    "    iris_dataset['data'], iris_dataset['target'], random_state=0, test_size=0.25)"
   ]
  },
  {
   "cell_type": "code",
   "execution_count": 0,
   "metadata": {
    "colab": {},
    "colab_type": "code",
    "id": "Sf9dhNUA9eRu"
   },
   "outputs": [],
   "source": [
    "print(\"X_train shape: {}\".format(X_train.shape))  # 112 samples in the training set\n",
    "print(\"y_train shape: {}\".format(y_train.shape))"
   ]
  },
  {
   "cell_type": "code",
   "execution_count": 0,
   "metadata": {
    "colab": {},
    "colab_type": "code",
    "id": "2NU61N8P9eR0"
   },
   "outputs": [],
   "source": [
    "print(\"X_test shape: {}\".format(X_test.shape))  # 38 samples in the test set\n",
    "print(\"y_test shape: {}\".format(y_test.shape))"
   ]
  },
  {
   "cell_type": "markdown",
   "metadata": {
    "colab_type": "text",
    "id": "caWlFKWT9eR4"
   },
   "source": [
    "## 4.3 Examining the data\n",
    "Before running any analysis on your data, the first thing you should do is look at it. Check if there are any errors in the data set and whether there are any outliers. Maybe your problem could be solved without machine learning or you can't answer your problem because you don't have the appropriate data. It's better to find out these things now!"
   ]
  },
  {
   "cell_type": "code",
   "execution_count": 0,
   "metadata": {
    "colab": {},
    "colab_type": "code",
    "id": "Ez2USe1d9eR5"
   },
   "outputs": [],
   "source": [
    "# Create a pandas dataframe from the data in X_train\n",
    "# Label the columns using the strings in iris_dataset.feature_names\n",
    "iris_dataframe = pd.DataFrame(X_train, columns=iris_dataset.feature_names)\n",
    "# Create a scatter matrix from the dataframe and color by y_train\n",
    "# s is the marker size and alpha is the transparency\n",
    "grr = pd.plotting.scatter_matrix(iris_dataframe, c=y_train, figsize=(15, 15), marker='o',\n",
    "                        hist_kwds={'bins': 20}, s=60, alpha=.8)  "
   ]
  },
  {
   "cell_type": "markdown",
   "metadata": {
    "colab_type": "text",
    "id": "slhl-GXE9eR-"
   },
   "source": [
    "From the scatterplots we can see that the three types of Iris seem to be well-separated in terms of their sepal and petal lengths and widths. Thus, a machine learning algorithm should be able to predict the species well."
   ]
  },
  {
   "cell_type": "markdown",
   "metadata": {
    "colab_type": "text",
    "id": "enOQ_-T-9eR-"
   },
   "source": [
    "## 4.4 $k$-nearest neighbors\n",
    "Let's try using a $k$-nearest neighbors model to classify the flowers. Here's how $k$-nearest neighbors works: Consider a training dataset $(x_i,y_i), i=1,\\dots, n$ of features $x_i$ and labels $y_i$ and suppose we want to classify a new point $x_{\\text{test}}$. The algorithm finds the $k$ nearest points $x_{k_1},\\dots, x_{k_k}$ to $x_{\\text{test}}$ from the training set. The predicted label for $x_{\\text{test}}$ is then the most frequent class label from $y_{k_1},\\dots, y_{k_k}$. (Here I use the indexing $k_j, j=1,\\dots, k$ rather than just $j=1,\\dots,k$ to denote the fact that the nearest points are not necessarily $x_1,\\dots, x_k$.)\n",
    "\n",
    "Consider an example: Suppose we have a training set $\\{(2, 1), (2, 1), (3, 2), (5, 1), (-1, 2)\\}$ and a new point $x_{\\text{test}}=2$ that we want to classify. Let's choose to use a 3-nearest neighbor classifier. Then the three nearest points in the training set have labels $1, 1$, and $2$. Taking the mode of those values, we predict that $x_{\\text{test}}$ should have label $1$. \n",
    "\n",
    "Note that in general the $x_i$'s don't need to be real values in $\\mathbb{R}$. \n",
    "\n",
    "One nice thing about scikit-learn is that it contains many different machine learning algorithms, and the way you use them is standardized. I.e., the way you call one algorithm is similar to the way you call others."
   ]
  },
  {
   "cell_type": "markdown",
   "metadata": {
    "colab_type": "text",
    "id": "0t4a8j6u9eR_"
   },
   "source": [
    "### 4.4.1 Standardizing the data\n",
    "It is often best to standardize the data before inputting it into your model. For a classifiation task we standardize the data by subtracting the mean of the predictors (the $x$'s) and dividing by their standard deviation. We can perform this using Scikit-learn's StandardScaler."
   ]
  },
  {
   "cell_type": "code",
   "execution_count": 0,
   "metadata": {
    "colab": {},
    "colab_type": "code",
    "id": "1KKyglmf9eR_"
   },
   "outputs": [],
   "source": [
    "from sklearn import preprocessing\n",
    "scaler = preprocessing.StandardScaler().fit(X_train)\n",
    "X_train = scaler.transform(X_train)\n",
    "X_test = scaler.transform(X_test)"
   ]
  },
  {
   "cell_type": "markdown",
   "metadata": {
    "colab_type": "text",
    "id": "oOQFbXFs9eSE"
   },
   "source": [
    "### 4.4.2 Fitting the model\n",
    "\n",
    "The $k$-nearest neighbors classifier is implemented in the KNeighborsClassifier class in the neighbors module. The first thing we have to do is load the classifier and instantiate it. If you don't know what classes are, don't worry about it. The important thing is knowing enough to be able to use scikit-learn."
   ]
  },
  {
   "cell_type": "code",
   "execution_count": 0,
   "metadata": {
    "colab": {},
    "colab_type": "code",
    "id": "UQC7hjnq9eSE"
   },
   "outputs": [],
   "source": [
    "from sklearn.neighbors import KNeighborsClassifier  # Load the classifier\n",
    "knn = KNeighborsClassifier(n_neighbors=1)  # Instantiate the class by giving it n_neighbors (k)"
   ]
  },
  {
   "cell_type": "markdown",
   "metadata": {
    "colab_type": "text",
    "id": "pTtGWBfx9eSK"
   },
   "source": [
    "The knn object we just created has a bunch of methods that you might find useful. These include:\n",
    "- fit(X,y): Fit the model using X as training data and y as target values\n",
    "- get_params(): Get parameters for this estimator.\n",
    "- kneighbors([X, n_neighbors, return_distance]): Finds the n_neighbors nearest neighbors of a point and returns their distances if return_distance is set to True.\n",
    "- predict(X): Predict the class labels for the provided data\n",
    "- predict_proba(X): Return probability estimates for the test data X.\n",
    "- score(X, y[, sample_weight]): Returns the mean accuracy on the given test data and labels.\n",
    "\n",
    "The *fit* method should be the first one you use, since you need to fit the model before the model is able to do things like make predictions. In order to call one of these methods, you use knn.method_name, where method_name is the name of one of the methods from above. Aside from the kneighbors method, the others are standard across many sklearn algorithms. \n",
    "\n",
    "Let's try fitting our model now."
   ]
  },
  {
   "cell_type": "code",
   "execution_count": 0,
   "metadata": {
    "colab": {},
    "colab_type": "code",
    "id": "ga1Fgb8L9eSK"
   },
   "outputs": [],
   "source": [
    "knn.fit(X_train, y_train)  # This modifies the knn object in place"
   ]
  },
  {
   "cell_type": "markdown",
   "metadata": {
    "colab_type": "text",
    "id": "vACjO4sq9eSN"
   },
   "source": [
    "### 4.4.3 Predicting and computing the accuracy\n",
    "Now that we have fit the data we can try predicting on some new data."
   ]
  },
  {
   "cell_type": "code",
   "execution_count": 0,
   "metadata": {
    "colab": {},
    "colab_type": "code",
    "id": "LAauLoAa9eSO"
   },
   "outputs": [],
   "source": [
    "X_new = np.array([[5, 2.9, 1, 0.2]])  # One new data point, but it needs to be in a 2-d array\n",
    "print(\"X_new.shape: {}\".format(X_new.shape))"
   ]
  },
  {
   "cell_type": "code",
   "execution_count": 0,
   "metadata": {
    "colab": {},
    "colab_type": "code",
    "id": "rpXzIF_49eSR"
   },
   "outputs": [],
   "source": [
    "prediction = knn.predict(X_new)\n",
    "print(\"Prediction: {}\".format(prediction))\n",
    "print(\"Predicted target name: {}\".format(\n",
    "       iris_dataset['target_names'][prediction]))"
   ]
  },
  {
   "cell_type": "markdown",
   "metadata": {
    "colab_type": "text",
    "id": "ftPnek-v9eSV"
   },
   "source": [
    "Now let's see how well the model performs on our test set. "
   ]
  },
  {
   "cell_type": "code",
   "execution_count": 0,
   "metadata": {
    "colab": {},
    "colab_type": "code",
    "id": "YjKTv7Uq9eSV"
   },
   "outputs": [],
   "source": [
    "y_pred = knn.predict(X_test)\n",
    "print(\"Test set predictions:\\n {}\".format(y_pred))"
   ]
  },
  {
   "cell_type": "code",
   "execution_count": 0,
   "metadata": {
    "colab": {},
    "colab_type": "code",
    "id": "5xNT_FuS9eSY"
   },
   "outputs": [],
   "source": [
    "print(\"Test set score: {:.2f}\".format(np.mean(y_pred == y_test)))  # Manually compute the accuracy"
   ]
  },
  {
   "cell_type": "code",
   "execution_count": 0,
   "metadata": {
    "colab": {},
    "colab_type": "code",
    "id": "Uv-_v3F69eSd"
   },
   "outputs": [],
   "source": [
    "print(\"Test set score: {:.2f}\".format(knn.score(X_test, y_test)))  # Use knn.score to compute the accuracy"
   ]
  },
  {
   "cell_type": "markdown",
   "metadata": {
    "colab_type": "text",
    "id": "Pk13Yxfc9eSf"
   },
   "source": [
    "We achieved an accuracy of 92%! In summary, the main functions we used that you need to know are below."
   ]
  },
  {
   "cell_type": "code",
   "execution_count": 0,
   "metadata": {
    "colab": {},
    "colab_type": "code",
    "id": "uSPjsOE19eSg"
   },
   "outputs": [],
   "source": [
    "X_train, X_test, y_train, y_test = train_test_split(\n",
    "    iris_dataset['data'], iris_dataset['target'], random_state=0)\n",
    "\n",
    "scaler = preprocessing.StandardScaler().fit(X_train)\n",
    "X_train = scaler.transform(X_train)\n",
    "X_test = scaler.transform(X_test)\n",
    "\n",
    "knn = KNeighborsClassifier(n_neighbors=1)\n",
    "knn.fit(X_train, y_train)\n",
    "\n",
    "print(\"Test set score: {:.2f}\".format(knn.score(X_test, y_test)))"
   ]
  },
  {
   "cell_type": "markdown",
   "metadata": {
    "colab_type": "text",
    "id": "vPUx0-qP9eSj"
   },
   "source": [
    "You may be wondering how to choose $k$. We will address this in a future lab."
   ]
  }
 ],
 "metadata": {
  "colab": {
   "collapsed_sections": [],
   "name": "lab1.ipynb",
   "provenance": []
  },
  "kernelspec": {
   "display_name": "Python 3",
   "language": "python",
   "name": "python3"
  },
  "language_info": {
   "codemirror_mode": {
    "name": "ipython",
    "version": 3
   },
   "file_extension": ".py",
   "mimetype": "text/x-python",
   "name": "python",
   "nbconvert_exporter": "python",
   "pygments_lexer": "ipython3",
   "version": "3.7.6"
  }
 },
 "nbformat": 4,
 "nbformat_minor": 1
}
